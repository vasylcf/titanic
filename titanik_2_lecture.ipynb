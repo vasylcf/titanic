{
 "cells": [
  {
   "cell_type": "code",
   "execution_count": 1,
   "metadata": {
    "_cell_guid": "de2aba3c-bdf8-4bf1-b9d9-5efc97f27cdf",
    "_uuid": "7ef7923021aad6148f16e34c5656d5c28a237766"
   },
   "outputs": [
    {
     "name": "stdout",
     "output_type": "stream",
     "text": [
      "Populating the interactive namespace from numpy and matplotlib\n"
     ]
    }
   ],
   "source": [
    "import pandas as pd\n",
    "import numpy as np\n",
    "from sklearn import metrics,model_selection,linear_model,preprocessing, ensemble\n",
    "from sklearn.model_selection import GridSearchCV as grid_search\n",
    "import xgboost as xgb\n",
    "import seaborn as sns\n",
    "%pylab inline"
   ]
  },
  {
   "cell_type": "code",
   "execution_count": 2,
   "metadata": {
    "_cell_guid": "a9ec4ba1-cf82-4de5-9b39-b53b6aa5a834",
    "_uuid": "688fd3bda985de5103fb05280adba69ed4608436"
   },
   "outputs": [],
   "source": [
    "data=pd.read_csv('data/train.csv')\n",
    "test=pd.read_csv('data/test.csv')"
   ]
  },
  {
   "cell_type": "code",
   "execution_count": 53,
   "metadata": {},
   "outputs": [
    {
     "data": {
      "text/html": [
       "<div>\n",
       "<style scoped>\n",
       "    .dataframe tbody tr th:only-of-type {\n",
       "        vertical-align: middle;\n",
       "    }\n",
       "\n",
       "    .dataframe tbody tr th {\n",
       "        vertical-align: top;\n",
       "    }\n",
       "\n",
       "    .dataframe thead th {\n",
       "        text-align: right;\n",
       "    }\n",
       "</style>\n",
       "<table border=\"1\" class=\"dataframe\">\n",
       "  <thead>\n",
       "    <tr style=\"text-align: right;\">\n",
       "      <th></th>\n",
       "      <th>PassengerId</th>\n",
       "      <th>Survived</th>\n",
       "      <th>Pclass</th>\n",
       "      <th>Name</th>\n",
       "      <th>Sex</th>\n",
       "      <th>Age</th>\n",
       "      <th>SibSp</th>\n",
       "      <th>Parch</th>\n",
       "      <th>Ticket</th>\n",
       "      <th>Fare</th>\n",
       "      <th>...</th>\n",
       "      <th>Status</th>\n",
       "      <th>Age_bin</th>\n",
       "      <th>Fare_fill</th>\n",
       "      <th>Cabin_cat</th>\n",
       "      <th>Pclass_ed</th>\n",
       "      <th>Relatives_bin</th>\n",
       "      <th>SibSp_cat</th>\n",
       "      <th>Parch_cat</th>\n",
       "      <th>Age_scale</th>\n",
       "      <th>Fare_fill_scale</th>\n",
       "    </tr>\n",
       "  </thead>\n",
       "  <tbody>\n",
       "    <tr>\n",
       "      <td>0</td>\n",
       "      <td>1</td>\n",
       "      <td>0</td>\n",
       "      <td>3</td>\n",
       "      <td>Braund, Mr. Owen Harris</td>\n",
       "      <td>male</td>\n",
       "      <td>22.0</td>\n",
       "      <td>1</td>\n",
       "      <td>0</td>\n",
       "      <td>A/5 21171</td>\n",
       "      <td>7.2500</td>\n",
       "      <td>...</td>\n",
       "      <td>Mr</td>\n",
       "      <td>midle_age</td>\n",
       "      <td>7.2500</td>\n",
       "      <td>U</td>\n",
       "      <td>Third</td>\n",
       "      <td>One</td>\n",
       "      <td>One</td>\n",
       "      <td>Single</td>\n",
       "      <td>-0.584263</td>\n",
       "      <td>-0.502445</td>\n",
       "    </tr>\n",
       "    <tr>\n",
       "      <td>1</td>\n",
       "      <td>2</td>\n",
       "      <td>1</td>\n",
       "      <td>1</td>\n",
       "      <td>Cumings, Mrs. John Bradley (Florence Briggs Th...</td>\n",
       "      <td>female</td>\n",
       "      <td>38.0</td>\n",
       "      <td>1</td>\n",
       "      <td>0</td>\n",
       "      <td>PC 17599</td>\n",
       "      <td>71.2833</td>\n",
       "      <td>...</td>\n",
       "      <td>Mrs</td>\n",
       "      <td>midle_age</td>\n",
       "      <td>71.2833</td>\n",
       "      <td>C</td>\n",
       "      <td>First</td>\n",
       "      <td>One</td>\n",
       "      <td>One</td>\n",
       "      <td>Single</td>\n",
       "      <td>0.621822</td>\n",
       "      <td>0.786845</td>\n",
       "    </tr>\n",
       "    <tr>\n",
       "      <td>2</td>\n",
       "      <td>3</td>\n",
       "      <td>1</td>\n",
       "      <td>3</td>\n",
       "      <td>Heikkinen, Miss. Laina</td>\n",
       "      <td>female</td>\n",
       "      <td>26.0</td>\n",
       "      <td>0</td>\n",
       "      <td>0</td>\n",
       "      <td>STON/O2. 3101282</td>\n",
       "      <td>7.9250</td>\n",
       "      <td>...</td>\n",
       "      <td>Miss</td>\n",
       "      <td>midle_age</td>\n",
       "      <td>7.9250</td>\n",
       "      <td>U</td>\n",
       "      <td>Third</td>\n",
       "      <td>Single</td>\n",
       "      <td>Single</td>\n",
       "      <td>Single</td>\n",
       "      <td>-0.282742</td>\n",
       "      <td>-0.488854</td>\n",
       "    </tr>\n",
       "    <tr>\n",
       "      <td>3</td>\n",
       "      <td>4</td>\n",
       "      <td>1</td>\n",
       "      <td>1</td>\n",
       "      <td>Futrelle, Mrs. Jacques Heath (Lily May Peel)</td>\n",
       "      <td>female</td>\n",
       "      <td>35.0</td>\n",
       "      <td>1</td>\n",
       "      <td>0</td>\n",
       "      <td>113803</td>\n",
       "      <td>53.1000</td>\n",
       "      <td>...</td>\n",
       "      <td>Mrs</td>\n",
       "      <td>midle_age</td>\n",
       "      <td>53.1000</td>\n",
       "      <td>C</td>\n",
       "      <td>First</td>\n",
       "      <td>One</td>\n",
       "      <td>One</td>\n",
       "      <td>Single</td>\n",
       "      <td>0.395681</td>\n",
       "      <td>0.420730</td>\n",
       "    </tr>\n",
       "    <tr>\n",
       "      <td>4</td>\n",
       "      <td>5</td>\n",
       "      <td>0</td>\n",
       "      <td>3</td>\n",
       "      <td>Allen, Mr. William Henry</td>\n",
       "      <td>male</td>\n",
       "      <td>35.0</td>\n",
       "      <td>0</td>\n",
       "      <td>0</td>\n",
       "      <td>373450</td>\n",
       "      <td>8.0500</td>\n",
       "      <td>...</td>\n",
       "      <td>Mr</td>\n",
       "      <td>midle_age</td>\n",
       "      <td>8.0500</td>\n",
       "      <td>U</td>\n",
       "      <td>Third</td>\n",
       "      <td>Single</td>\n",
       "      <td>Single</td>\n",
       "      <td>Single</td>\n",
       "      <td>0.395681</td>\n",
       "      <td>-0.486337</td>\n",
       "    </tr>\n",
       "  </tbody>\n",
       "</table>\n",
       "<p>5 rows × 26 columns</p>\n",
       "</div>"
      ],
      "text/plain": [
       "   PassengerId  Survived  Pclass  \\\n",
       "0            1         0       3   \n",
       "1            2         1       1   \n",
       "2            3         1       3   \n",
       "3            4         1       1   \n",
       "4            5         0       3   \n",
       "\n",
       "                                                Name     Sex   Age  SibSp  \\\n",
       "0                            Braund, Mr. Owen Harris    male  22.0      1   \n",
       "1  Cumings, Mrs. John Bradley (Florence Briggs Th...  female  38.0      1   \n",
       "2                             Heikkinen, Miss. Laina  female  26.0      0   \n",
       "3       Futrelle, Mrs. Jacques Heath (Lily May Peel)  female  35.0      1   \n",
       "4                           Allen, Mr. William Henry    male  35.0      0   \n",
       "\n",
       "   Parch            Ticket     Fare  ... Status    Age_bin  Fare_fill  \\\n",
       "0      0         A/5 21171   7.2500  ...     Mr  midle_age     7.2500   \n",
       "1      0          PC 17599  71.2833  ...    Mrs  midle_age    71.2833   \n",
       "2      0  STON/O2. 3101282   7.9250  ...   Miss  midle_age     7.9250   \n",
       "3      0            113803  53.1000  ...    Mrs  midle_age    53.1000   \n",
       "4      0            373450   8.0500  ...     Mr  midle_age     8.0500   \n",
       "\n",
       "   Cabin_cat  Pclass_ed Relatives_bin SibSp_cat Parch_cat  Age_scale  \\\n",
       "0          U      Third           One       One    Single  -0.584263   \n",
       "1          C      First           One       One    Single   0.621822   \n",
       "2          U      Third        Single    Single    Single  -0.282742   \n",
       "3          C      First           One       One    Single   0.395681   \n",
       "4          U      Third        Single    Single    Single   0.395681   \n",
       "\n",
       "  Fare_fill_scale  \n",
       "0       -0.502445  \n",
       "1        0.786845  \n",
       "2       -0.488854  \n",
       "3        0.420730  \n",
       "4       -0.486337  \n",
       "\n",
       "[5 rows x 26 columns]"
      ]
     },
     "execution_count": 53,
     "metadata": {},
     "output_type": "execute_result"
    }
   ],
   "source": [
    "data.head()"
   ]
  },
  {
   "cell_type": "code",
   "execution_count": 5,
   "metadata": {},
   "outputs": [
    {
     "data": {
      "image/png": "[encoded data removed]",
      "text/plain": [
       "<Figure size 402.375x360 with 1 Axes>"
      ]
     },
     "metadata": {
      "needs_background": "light"
     },
     "output_type": "display_data"
    }
   ],
   "source": [
    "sns.catplot(x=\"Sex\", y=\"Survived\", hue=\"Pclass\", kind=\"bar\", data=data);\n",
    "pyplot.title('Chance to survive')\n",
    "pyplot.show()"
   ]
  },
  {
   "cell_type": "code",
   "execution_count": 6,
   "metadata": {},
   "outputs": [
    {
     "data": {
      "image/png": "[encoded data removed]",
      "text/plain": [
       "<Figure size 411.875x360 with 1 Axes>"
      ]
     },
     "metadata": {
      "needs_background": "light"
     },
     "output_type": "display_data"
    }
   ],
   "source": [
    "sns.catplot(x=\"Pclass\", y=\"Age\", kind=\"box\", hue=\"Survived\",data=data);\n",
    "pyplot.title('Age factor')\n",
    "pyplot.show()"
   ]
  },
  {
   "cell_type": "code",
   "execution_count": 20,
   "metadata": {},
   "outputs": [
    {
     "data": {
      "image/png": "[encoded data removed]",
      "text/plain": [
       "<Figure size 360x360 with 1 Axes>"
      ]
     },
     "metadata": {
      "needs_background": "light"
     },
     "output_type": "display_data"
    }
   ],
   "source": [
    "# #of parents / children aboard the Titanic\n",
    "sns.catplot(x=\"Parch\", y=\"Survived\", kind=\"bar\", data=data);"
   ]
  },
  {
   "cell_type": "code",
   "execution_count": 7,
   "metadata": {},
   "outputs": [
    {
     "data": {
      "image/png": "[encoded data removed]",
      "text/plain": [
       "<Figure size 360x360 with 1 Axes>"
      ]
     },
     "metadata": {
      "needs_background": "light"
     },
     "output_type": "display_data"
    }
   ],
   "source": [
    "# #of siblings / spouses aboard the Titanic\n",
    "sns.catplot(x=\"SibSp\", y=\"Survived\", kind=\"bar\", data=data);"
   ]
  },
  {
   "cell_type": "code",
   "execution_count": 8,
   "metadata": {},
   "outputs": [
    {
     "data": {
      "image/png": "[encoded data removed]",
      "text/plain": [
       "<Figure size 360x360 with 1 Axes>"
      ]
     },
     "metadata": {
      "needs_background": "light"
     },
     "output_type": "display_data"
    }
   ],
   "source": [
    "# Port of Embarkation: C = Cherbourg, Q = Queenstown, S = Southampton\n",
    "sns.catplot(x=\"Embarked\", y=\"Survived\", kind=\"bar\", data=data);"
   ]
  },
  {
   "cell_type": "code",
   "execution_count": 9,
   "metadata": {
    "_cell_guid": "6d3858d1-404e-4b9b-a2e1-33fc44b202a6",
    "_uuid": "2f66e7b86b5788e4f8e40289dce6b7840f150393"
   },
   "outputs": [
    {
     "data": {
      "text/html": [
       "<div>\n",
       "<style scoped>\n",
       "    .dataframe tbody tr th:only-of-type {\n",
       "        vertical-align: middle;\n",
       "    }\n",
       "\n",
       "    .dataframe tbody tr th {\n",
       "        vertical-align: top;\n",
       "    }\n",
       "\n",
       "    .dataframe thead th {\n",
       "        text-align: right;\n",
       "    }\n",
       "</style>\n",
       "<table border=\"1\" class=\"dataframe\">\n",
       "  <thead>\n",
       "    <tr style=\"text-align: right;\">\n",
       "      <th></th>\n",
       "      <th>PassengerId</th>\n",
       "      <th>Pclass</th>\n",
       "      <th>Name</th>\n",
       "      <th>Sex</th>\n",
       "      <th>Age</th>\n",
       "      <th>SibSp</th>\n",
       "      <th>Parch</th>\n",
       "      <th>Ticket</th>\n",
       "      <th>Fare</th>\n",
       "      <th>Cabin</th>\n",
       "      <th>Embarked</th>\n",
       "      <th>Relatives</th>\n",
       "    </tr>\n",
       "  </thead>\n",
       "  <tbody>\n",
       "    <tr>\n",
       "      <td>0</td>\n",
       "      <td>892</td>\n",
       "      <td>3</td>\n",
       "      <td>Kelly, Mr. James</td>\n",
       "      <td>male</td>\n",
       "      <td>34.5</td>\n",
       "      <td>0</td>\n",
       "      <td>0</td>\n",
       "      <td>330911</td>\n",
       "      <td>7.8292</td>\n",
       "      <td>NaN</td>\n",
       "      <td>Q</td>\n",
       "      <td>0</td>\n",
       "    </tr>\n",
       "    <tr>\n",
       "      <td>1</td>\n",
       "      <td>893</td>\n",
       "      <td>3</td>\n",
       "      <td>Wilkes, Mrs. James (Ellen Needs)</td>\n",
       "      <td>female</td>\n",
       "      <td>47.0</td>\n",
       "      <td>1</td>\n",
       "      <td>0</td>\n",
       "      <td>363272</td>\n",
       "      <td>7.0000</td>\n",
       "      <td>NaN</td>\n",
       "      <td>S</td>\n",
       "      <td>1</td>\n",
       "    </tr>\n",
       "    <tr>\n",
       "      <td>2</td>\n",
       "      <td>894</td>\n",
       "      <td>2</td>\n",
       "      <td>Myles, Mr. Thomas Francis</td>\n",
       "      <td>male</td>\n",
       "      <td>62.0</td>\n",
       "      <td>0</td>\n",
       "      <td>0</td>\n",
       "      <td>240276</td>\n",
       "      <td>9.6875</td>\n",
       "      <td>NaN</td>\n",
       "      <td>Q</td>\n",
       "      <td>0</td>\n",
       "    </tr>\n",
       "    <tr>\n",
       "      <td>3</td>\n",
       "      <td>895</td>\n",
       "      <td>3</td>\n",
       "      <td>Wirz, Mr. Albert</td>\n",
       "      <td>male</td>\n",
       "      <td>27.0</td>\n",
       "      <td>0</td>\n",
       "      <td>0</td>\n",
       "      <td>315154</td>\n",
       "      <td>8.6625</td>\n",
       "      <td>NaN</td>\n",
       "      <td>S</td>\n",
       "      <td>0</td>\n",
       "    </tr>\n",
       "    <tr>\n",
       "      <td>4</td>\n",
       "      <td>896</td>\n",
       "      <td>3</td>\n",
       "      <td>Hirvonen, Mrs. Alexander (Helga E Lindqvist)</td>\n",
       "      <td>female</td>\n",
       "      <td>22.0</td>\n",
       "      <td>1</td>\n",
       "      <td>1</td>\n",
       "      <td>3101298</td>\n",
       "      <td>12.2875</td>\n",
       "      <td>NaN</td>\n",
       "      <td>S</td>\n",
       "      <td>2</td>\n",
       "    </tr>\n",
       "  </tbody>\n",
       "</table>\n",
       "</div>"
      ],
      "text/plain": [
       "   PassengerId  Pclass                                          Name     Sex  \\\n",
       "0          892       3                              Kelly, Mr. James    male   \n",
       "1          893       3              Wilkes, Mrs. James (Ellen Needs)  female   \n",
       "2          894       2                     Myles, Mr. Thomas Francis    male   \n",
       "3          895       3                              Wirz, Mr. Albert    male   \n",
       "4          896       3  Hirvonen, Mrs. Alexander (Helga E Lindqvist)  female   \n",
       "\n",
       "    Age  SibSp  Parch   Ticket     Fare Cabin Embarked  Relatives  \n",
       "0  34.5      0      0   330911   7.8292   NaN        Q          0  \n",
       "1  47.0      1      0   363272   7.0000   NaN        S          1  \n",
       "2  62.0      0      0   240276   9.6875   NaN        Q          0  \n",
       "3  27.0      0      0   315154   8.6625   NaN        S          0  \n",
       "4  22.0      1      1  3101298  12.2875   NaN        S          2  "
      ]
     },
     "execution_count": 9,
     "metadata": {},
     "output_type": "execute_result"
    }
   ],
   "source": [
    "data['Relatives']=data.SibSp.values+data.Parch.values\n",
    "test['Relatives']=test.SibSp.values+test.Parch.values\n",
    "test.head(5)"
   ]
  },
  {
   "cell_type": "code",
   "execution_count": 10,
   "metadata": {},
   "outputs": [
    {
     "data": {
      "image/png": "[encoded data removed]",
      "text/plain": [
       "<Figure size 360x360 with 1 Axes>"
      ]
     },
     "metadata": {
      "needs_background": "light"
     },
     "output_type": "display_data"
    }
   ],
   "source": [
    "sns.catplot(x=\"Relatives\", y=\"Survived\", kind=\"bar\", data=data);"
   ]
  },
  {
   "cell_type": "code",
   "execution_count": 11,
   "metadata": {
    "_cell_guid": "e4dd2903-a0f3-4e45-9812-b43dec854613",
    "_uuid": "50450c01f77625e7a3475bcba0ce9632e07abf77"
   },
   "outputs": [],
   "source": [
    "def change_cat(col,max):\n",
    "    mass=[]\n",
    "    for i in col:\n",
    "        if i<max:\n",
    "            mass.append(i)\n",
    "        else:\n",
    "            mass.append(max)\n",
    "    return mass\n",
    "        "
   ]
  },
  {
   "cell_type": "code",
   "execution_count": 12,
   "metadata": {
    "_cell_guid": "5b28eba3-0337-45fb-b775-b03e65fb8ae0",
    "_uuid": "c18bc7ac3f72ce017ec655350cfdc47bf0366d9a",
    "scrolled": false
   },
   "outputs": [],
   "source": [
    "data['Relatives_ed']=change_cat(data.Relatives,5)\n",
    "test['Relatives_ed']=change_cat(test.Relatives,5)\n",
    "test.head(5)\n",
    "data['Age_fill']=data.Age.fillna(value=np.round(data.Age.median(),2))\n",
    "#data['Age_bin']=pd.cut(data.Age_fill,[0.1,5,10,15,20,40,50,60,110],labels=['yung_1','yung_2','yung_3','yung_4','midle_age','old_3','old_2','very_old'])"
   ]
  },
  {
   "cell_type": "code",
   "execution_count": 13,
   "metadata": {},
   "outputs": [
    {
     "data": {
      "image/png": "[encoded data removed]",
      "text/plain": [
       "<Figure size 360x360 with 1 Axes>"
      ]
     },
     "metadata": {
      "needs_background": "light"
     },
     "output_type": "display_data"
    }
   ],
   "source": [
    "sns.catplot(x=\"Relatives_ed\", y=\"Survived\", kind=\"bar\", data=data);"
   ]
  },
  {
   "cell_type": "code",
   "execution_count": 14,
   "metadata": {
    "_cell_guid": "a23efa48-2492-4aa0-80d8-e1e020b1713a",
    "_uuid": "906b051a96876c0851914a3aa48931db55f96504"
   },
   "outputs": [
    {
     "data": {
      "text/html": [
       "<div>\n",
       "<style scoped>\n",
       "    .dataframe tbody tr th:only-of-type {\n",
       "        vertical-align: middle;\n",
       "    }\n",
       "\n",
       "    .dataframe tbody tr th {\n",
       "        vertical-align: top;\n",
       "    }\n",
       "\n",
       "    .dataframe thead th {\n",
       "        text-align: right;\n",
       "    }\n",
       "</style>\n",
       "<table border=\"1\" class=\"dataframe\">\n",
       "  <thead>\n",
       "    <tr style=\"text-align: right;\">\n",
       "      <th></th>\n",
       "      <th>PassengerId</th>\n",
       "      <th>Pclass</th>\n",
       "      <th>Name</th>\n",
       "      <th>Sex</th>\n",
       "      <th>Age</th>\n",
       "      <th>SibSp</th>\n",
       "      <th>Parch</th>\n",
       "      <th>Ticket</th>\n",
       "      <th>Fare</th>\n",
       "      <th>Cabin</th>\n",
       "      <th>Embarked</th>\n",
       "      <th>Relatives</th>\n",
       "      <th>Relatives_ed</th>\n",
       "      <th>SecondName</th>\n",
       "      <th>Status</th>\n",
       "    </tr>\n",
       "  </thead>\n",
       "  <tbody>\n",
       "    <tr>\n",
       "      <td>0</td>\n",
       "      <td>892</td>\n",
       "      <td>3</td>\n",
       "      <td>Kelly, Mr. James</td>\n",
       "      <td>male</td>\n",
       "      <td>34.5</td>\n",
       "      <td>0</td>\n",
       "      <td>0</td>\n",
       "      <td>330911</td>\n",
       "      <td>7.8292</td>\n",
       "      <td>NaN</td>\n",
       "      <td>Q</td>\n",
       "      <td>0</td>\n",
       "      <td>0</td>\n",
       "      <td>Kelly</td>\n",
       "      <td>Mr</td>\n",
       "    </tr>\n",
       "    <tr>\n",
       "      <td>1</td>\n",
       "      <td>893</td>\n",
       "      <td>3</td>\n",
       "      <td>Wilkes, Mrs. James (Ellen Needs)</td>\n",
       "      <td>female</td>\n",
       "      <td>47.0</td>\n",
       "      <td>1</td>\n",
       "      <td>0</td>\n",
       "      <td>363272</td>\n",
       "      <td>7.0000</td>\n",
       "      <td>NaN</td>\n",
       "      <td>S</td>\n",
       "      <td>1</td>\n",
       "      <td>1</td>\n",
       "      <td>Wilkes</td>\n",
       "      <td>Mrs</td>\n",
       "    </tr>\n",
       "    <tr>\n",
       "      <td>2</td>\n",
       "      <td>894</td>\n",
       "      <td>2</td>\n",
       "      <td>Myles, Mr. Thomas Francis</td>\n",
       "      <td>male</td>\n",
       "      <td>62.0</td>\n",
       "      <td>0</td>\n",
       "      <td>0</td>\n",
       "      <td>240276</td>\n",
       "      <td>9.6875</td>\n",
       "      <td>NaN</td>\n",
       "      <td>Q</td>\n",
       "      <td>0</td>\n",
       "      <td>0</td>\n",
       "      <td>Myles</td>\n",
       "      <td>Mr</td>\n",
       "    </tr>\n",
       "    <tr>\n",
       "      <td>3</td>\n",
       "      <td>895</td>\n",
       "      <td>3</td>\n",
       "      <td>Wirz, Mr. Albert</td>\n",
       "      <td>male</td>\n",
       "      <td>27.0</td>\n",
       "      <td>0</td>\n",
       "      <td>0</td>\n",
       "      <td>315154</td>\n",
       "      <td>8.6625</td>\n",
       "      <td>NaN</td>\n",
       "      <td>S</td>\n",
       "      <td>0</td>\n",
       "      <td>0</td>\n",
       "      <td>Wirz</td>\n",
       "      <td>Mr</td>\n",
       "    </tr>\n",
       "    <tr>\n",
       "      <td>4</td>\n",
       "      <td>896</td>\n",
       "      <td>3</td>\n",
       "      <td>Hirvonen, Mrs. Alexander (Helga E Lindqvist)</td>\n",
       "      <td>female</td>\n",
       "      <td>22.0</td>\n",
       "      <td>1</td>\n",
       "      <td>1</td>\n",
       "      <td>3101298</td>\n",
       "      <td>12.2875</td>\n",
       "      <td>NaN</td>\n",
       "      <td>S</td>\n",
       "      <td>2</td>\n",
       "      <td>2</td>\n",
       "      <td>Hirvonen</td>\n",
       "      <td>Mrs</td>\n",
       "    </tr>\n",
       "  </tbody>\n",
       "</table>\n",
       "</div>"
      ],
      "text/plain": [
       "   PassengerId  Pclass                                          Name     Sex  \\\n",
       "0          892       3                              Kelly, Mr. James    male   \n",
       "1          893       3              Wilkes, Mrs. James (Ellen Needs)  female   \n",
       "2          894       2                     Myles, Mr. Thomas Francis    male   \n",
       "3          895       3                              Wirz, Mr. Albert    male   \n",
       "4          896       3  Hirvonen, Mrs. Alexander (Helga E Lindqvist)  female   \n",
       "\n",
       "    Age  SibSp  Parch   Ticket     Fare Cabin Embarked  Relatives  \\\n",
       "0  34.5      0      0   330911   7.8292   NaN        Q          0   \n",
       "1  47.0      1      0   363272   7.0000   NaN        S          1   \n",
       "2  62.0      0      0   240276   9.6875   NaN        Q          0   \n",
       "3  27.0      0      0   315154   8.6625   NaN        S          0   \n",
       "4  22.0      1      1  3101298  12.2875   NaN        S          2   \n",
       "\n",
       "   Relatives_ed SecondName Status  \n",
       "0             0      Kelly     Mr  \n",
       "1             1     Wilkes    Mrs  \n",
       "2             0      Myles     Mr  \n",
       "3             0       Wirz     Mr  \n",
       "4             2   Hirvonen    Mrs  "
      ]
     },
     "execution_count": 14,
     "metadata": {},
     "output_type": "execute_result"
    }
   ],
   "source": [
    "data['SeconName']=data.Name.apply(lambda x: x.split(',',1)[0])\n",
    "data['Status']=data.Name.apply(lambda x: x.split(',',1)[1].split('.',1)[0])\n",
    "test['SecondName']=test.Name.apply(lambda x: x.split(',',1)[0])\n",
    "test['Status']=test.Name.apply(lambda x: x.split(',',1)[1].split('.',1)[0])\n",
    "test.head()"
   ]
  },
  {
   "cell_type": "code",
   "execution_count": 15,
   "metadata": {
    "_cell_guid": "bb1a421f-a4e3-4664-a204-d1aca52c213c",
    "_uuid": "7fe34b7de53fdae16cead6c5e8df71abcddc4730"
   },
   "outputs": [],
   "source": [
    "s=       {' Capt':       'Officer',\n",
    "          ' Col':        'Officer',\n",
    "          ' Major':      'Officer',\n",
    "          ' Jonkheer':   'Royalty',\n",
    "          ' Don':        'Royalty',\n",
    "          ' Sir' :       'Royalty',\n",
    "          ' Dr':         'Dr',\n",
    "          ' Rev':        'Rev',\n",
    "          ' the Countess':   'Royalty',\n",
    "          ' Dona':       'Royalty',\n",
    "          ' Mme':        'Mrs',\n",
    "          ' Mlle':       'Miss',\n",
    "          ' Ms':         'Mrs',\n",
    "          ' Mr' :        'Mr',\n",
    "          ' Mrs' :       'Mrs',\n",
    "          ' Miss' :      'Miss',\n",
    "          ' Master' :    'Master',\n",
    "          ' Lady' :      'Royalty'\n",
    "                    }"
   ]
  },
  {
   "cell_type": "code",
   "execution_count": 16,
   "metadata": {
    "_cell_guid": "f3d39914-3c48-47df-ac2b-cfc19c7afd8c",
    "_uuid": "09f08950ef1f01c443e302654831e6de5405e8c0"
   },
   "outputs": [
    {
     "data": {
      "text/html": [
       "<div>\n",
       "<style scoped>\n",
       "    .dataframe tbody tr th:only-of-type {\n",
       "        vertical-align: middle;\n",
       "    }\n",
       "\n",
       "    .dataframe tbody tr th {\n",
       "        vertical-align: top;\n",
       "    }\n",
       "\n",
       "    .dataframe thead th {\n",
       "        text-align: right;\n",
       "    }\n",
       "</style>\n",
       "<table border=\"1\" class=\"dataframe\">\n",
       "  <thead>\n",
       "    <tr style=\"text-align: right;\">\n",
       "      <th></th>\n",
       "      <th>PassengerId</th>\n",
       "      <th>Pclass</th>\n",
       "      <th>Name</th>\n",
       "      <th>Sex</th>\n",
       "      <th>Age</th>\n",
       "      <th>SibSp</th>\n",
       "      <th>Parch</th>\n",
       "      <th>Ticket</th>\n",
       "      <th>Fare</th>\n",
       "      <th>Cabin</th>\n",
       "      <th>Embarked</th>\n",
       "      <th>Relatives</th>\n",
       "      <th>Relatives_ed</th>\n",
       "      <th>SecondName</th>\n",
       "      <th>Status</th>\n",
       "    </tr>\n",
       "  </thead>\n",
       "  <tbody>\n",
       "    <tr>\n",
       "      <td>0</td>\n",
       "      <td>892</td>\n",
       "      <td>3</td>\n",
       "      <td>Kelly, Mr. James</td>\n",
       "      <td>male</td>\n",
       "      <td>34.5</td>\n",
       "      <td>0</td>\n",
       "      <td>0</td>\n",
       "      <td>330911</td>\n",
       "      <td>7.8292</td>\n",
       "      <td>NaN</td>\n",
       "      <td>Q</td>\n",
       "      <td>0</td>\n",
       "      <td>0</td>\n",
       "      <td>Kelly</td>\n",
       "      <td>Mr</td>\n",
       "    </tr>\n",
       "    <tr>\n",
       "      <td>1</td>\n",
       "      <td>893</td>\n",
       "      <td>3</td>\n",
       "      <td>Wilkes, Mrs. James (Ellen Needs)</td>\n",
       "      <td>female</td>\n",
       "      <td>47.0</td>\n",
       "      <td>1</td>\n",
       "      <td>0</td>\n",
       "      <td>363272</td>\n",
       "      <td>7.0000</td>\n",
       "      <td>NaN</td>\n",
       "      <td>S</td>\n",
       "      <td>1</td>\n",
       "      <td>1</td>\n",
       "      <td>Wilkes</td>\n",
       "      <td>Mrs</td>\n",
       "    </tr>\n",
       "    <tr>\n",
       "      <td>2</td>\n",
       "      <td>894</td>\n",
       "      <td>2</td>\n",
       "      <td>Myles, Mr. Thomas Francis</td>\n",
       "      <td>male</td>\n",
       "      <td>62.0</td>\n",
       "      <td>0</td>\n",
       "      <td>0</td>\n",
       "      <td>240276</td>\n",
       "      <td>9.6875</td>\n",
       "      <td>NaN</td>\n",
       "      <td>Q</td>\n",
       "      <td>0</td>\n",
       "      <td>0</td>\n",
       "      <td>Myles</td>\n",
       "      <td>Mr</td>\n",
       "    </tr>\n",
       "    <tr>\n",
       "      <td>3</td>\n",
       "      <td>895</td>\n",
       "      <td>3</td>\n",
       "      <td>Wirz, Mr. Albert</td>\n",
       "      <td>male</td>\n",
       "      <td>27.0</td>\n",
       "      <td>0</td>\n",
       "      <td>0</td>\n",
       "      <td>315154</td>\n",
       "      <td>8.6625</td>\n",
       "      <td>NaN</td>\n",
       "      <td>S</td>\n",
       "      <td>0</td>\n",
       "      <td>0</td>\n",
       "      <td>Wirz</td>\n",
       "      <td>Mr</td>\n",
       "    </tr>\n",
       "    <tr>\n",
       "      <td>4</td>\n",
       "      <td>896</td>\n",
       "      <td>3</td>\n",
       "      <td>Hirvonen, Mrs. Alexander (Helga E Lindqvist)</td>\n",
       "      <td>female</td>\n",
       "      <td>22.0</td>\n",
       "      <td>1</td>\n",
       "      <td>1</td>\n",
       "      <td>3101298</td>\n",
       "      <td>12.2875</td>\n",
       "      <td>NaN</td>\n",
       "      <td>S</td>\n",
       "      <td>2</td>\n",
       "      <td>2</td>\n",
       "      <td>Hirvonen</td>\n",
       "      <td>Mrs</td>\n",
       "    </tr>\n",
       "  </tbody>\n",
       "</table>\n",
       "</div>"
      ],
      "text/plain": [
       "   PassengerId  Pclass                                          Name     Sex  \\\n",
       "0          892       3                              Kelly, Mr. James    male   \n",
       "1          893       3              Wilkes, Mrs. James (Ellen Needs)  female   \n",
       "2          894       2                     Myles, Mr. Thomas Francis    male   \n",
       "3          895       3                              Wirz, Mr. Albert    male   \n",
       "4          896       3  Hirvonen, Mrs. Alexander (Helga E Lindqvist)  female   \n",
       "\n",
       "    Age  SibSp  Parch   Ticket     Fare Cabin Embarked  Relatives  \\\n",
       "0  34.5      0      0   330911   7.8292   NaN        Q          0   \n",
       "1  47.0      1      0   363272   7.0000   NaN        S          1   \n",
       "2  62.0      0      0   240276   9.6875   NaN        Q          0   \n",
       "3  27.0      0      0   315154   8.6625   NaN        S          0   \n",
       "4  22.0      1      1  3101298  12.2875   NaN        S          2   \n",
       "\n",
       "   Relatives_ed SecondName Status  \n",
       "0             0      Kelly     Mr  \n",
       "1             1     Wilkes    Mrs  \n",
       "2             0      Myles     Mr  \n",
       "3             0       Wirz     Mr  \n",
       "4             2   Hirvonen    Mrs  "
      ]
     },
     "execution_count": 16,
     "metadata": {},
     "output_type": "execute_result"
    }
   ],
   "source": [
    "for i,j in s.items():\n",
    "    data.loc[data.Status==i,'Status']=j\n",
    "    test.loc[test.Status==i,'Status']=j\n",
    "test.head()"
   ]
  },
  {
   "cell_type": "code",
   "execution_count": 17,
   "metadata": {
    "_cell_guid": "b5945271-f958-4943-86ce-82e748bd3d59",
    "_uuid": "eebaacf8b03c5f20c781d70ca777896ef04d0aa8"
   },
   "outputs": [
    {
     "data": {
      "text/plain": [
       "<matplotlib.axes._subplots.AxesSubplot at 0x7f9134c109b0>"
      ]
     },
     "execution_count": 17,
     "metadata": {},
     "output_type": "execute_result"
    },
    {
     "data": {
      "image/png": "[encoded data removed]",
      "text/plain": [
       "<Figure size 432x288 with 1 Axes>"
      ]
     },
     "metadata": {
      "needs_background": "light"
     },
     "output_type": "display_data"
    }
   ],
   "source": [
    "data_pivot_status=data.pivot_table('PassengerId','Status','Survived',aggfunc='count')\n",
    "data_pivot_status.plot(kind='bar',stacked=True)"
   ]
  },
  {
   "cell_type": "code",
   "execution_count": 18,
   "metadata": {},
   "outputs": [
    {
     "data": {
      "text/plain": [
       "PassengerId       0\n",
       "Survived          0\n",
       "Pclass            0\n",
       "Name              0\n",
       "Sex               0\n",
       "Age             177\n",
       "SibSp             0\n",
       "Parch             0\n",
       "Ticket            0\n",
       "Fare              0\n",
       "Cabin           687\n",
       "Embarked          2\n",
       "Relatives         0\n",
       "Relatives_ed      0\n",
       "Age_fill          0\n",
       "SeconName         0\n",
       "Status            0\n",
       "dtype: int64"
      ]
     },
     "execution_count": 18,
     "metadata": {},
     "output_type": "execute_result"
    }
   ],
   "source": [
    "# NA in dataset\n",
    "data.isnull().sum()"
   ]
  },
  {
   "cell_type": "code",
   "execution_count": 19,
   "metadata": {
    "_cell_guid": "e9029471-4c8a-4e39-9cbe-f8e2bb75dcd5",
    "_uuid": "d7a9a77358341e3b210065d6a43151aa0a17c6ea"
   },
   "outputs": [
    {
     "data": {
      "text/html": [
       "<div>\n",
       "<style scoped>\n",
       "    .dataframe tbody tr th:only-of-type {\n",
       "        vertical-align: middle;\n",
       "    }\n",
       "\n",
       "    .dataframe tbody tr th {\n",
       "        vertical-align: top;\n",
       "    }\n",
       "\n",
       "    .dataframe thead th {\n",
       "        text-align: right;\n",
       "    }\n",
       "</style>\n",
       "<table border=\"1\" class=\"dataframe\">\n",
       "  <thead>\n",
       "    <tr style=\"text-align: right;\">\n",
       "      <th></th>\n",
       "      <th>PassengerId</th>\n",
       "      <th>Pclass</th>\n",
       "      <th>Name</th>\n",
       "      <th>Sex</th>\n",
       "      <th>Age</th>\n",
       "      <th>SibSp</th>\n",
       "      <th>Parch</th>\n",
       "      <th>Ticket</th>\n",
       "      <th>Fare</th>\n",
       "      <th>Cabin</th>\n",
       "      <th>Embarked</th>\n",
       "      <th>Relatives</th>\n",
       "      <th>Relatives_ed</th>\n",
       "      <th>SecondName</th>\n",
       "      <th>Status</th>\n",
       "      <th>Age_fill</th>\n",
       "      <th>Age_bin</th>\n",
       "    </tr>\n",
       "  </thead>\n",
       "  <tbody>\n",
       "    <tr>\n",
       "      <td>0</td>\n",
       "      <td>892</td>\n",
       "      <td>3</td>\n",
       "      <td>Kelly, Mr. James</td>\n",
       "      <td>male</td>\n",
       "      <td>34.5</td>\n",
       "      <td>0</td>\n",
       "      <td>0</td>\n",
       "      <td>330911</td>\n",
       "      <td>7.8292</td>\n",
       "      <td>NaN</td>\n",
       "      <td>Q</td>\n",
       "      <td>0</td>\n",
       "      <td>0</td>\n",
       "      <td>Kelly</td>\n",
       "      <td>Mr</td>\n",
       "      <td>22.00000</td>\n",
       "      <td>midle_age</td>\n",
       "    </tr>\n",
       "    <tr>\n",
       "      <td>1</td>\n",
       "      <td>893</td>\n",
       "      <td>3</td>\n",
       "      <td>Wilkes, Mrs. James (Ellen Needs)</td>\n",
       "      <td>female</td>\n",
       "      <td>47.0</td>\n",
       "      <td>1</td>\n",
       "      <td>0</td>\n",
       "      <td>363272</td>\n",
       "      <td>7.0000</td>\n",
       "      <td>NaN</td>\n",
       "      <td>S</td>\n",
       "      <td>1</td>\n",
       "      <td>1</td>\n",
       "      <td>Wilkes</td>\n",
       "      <td>Mrs</td>\n",
       "      <td>38.00000</td>\n",
       "      <td>midle_age</td>\n",
       "    </tr>\n",
       "    <tr>\n",
       "      <td>2</td>\n",
       "      <td>894</td>\n",
       "      <td>2</td>\n",
       "      <td>Myles, Mr. Thomas Francis</td>\n",
       "      <td>male</td>\n",
       "      <td>62.0</td>\n",
       "      <td>0</td>\n",
       "      <td>0</td>\n",
       "      <td>240276</td>\n",
       "      <td>9.6875</td>\n",
       "      <td>NaN</td>\n",
       "      <td>Q</td>\n",
       "      <td>0</td>\n",
       "      <td>0</td>\n",
       "      <td>Myles</td>\n",
       "      <td>Mr</td>\n",
       "      <td>26.00000</td>\n",
       "      <td>midle_age</td>\n",
       "    </tr>\n",
       "    <tr>\n",
       "      <td>3</td>\n",
       "      <td>895</td>\n",
       "      <td>3</td>\n",
       "      <td>Wirz, Mr. Albert</td>\n",
       "      <td>male</td>\n",
       "      <td>27.0</td>\n",
       "      <td>0</td>\n",
       "      <td>0</td>\n",
       "      <td>315154</td>\n",
       "      <td>8.6625</td>\n",
       "      <td>NaN</td>\n",
       "      <td>S</td>\n",
       "      <td>0</td>\n",
       "      <td>0</td>\n",
       "      <td>Wirz</td>\n",
       "      <td>Mr</td>\n",
       "      <td>35.00000</td>\n",
       "      <td>midle_age</td>\n",
       "    </tr>\n",
       "    <tr>\n",
       "      <td>4</td>\n",
       "      <td>896</td>\n",
       "      <td>3</td>\n",
       "      <td>Hirvonen, Mrs. Alexander (Helga E Lindqvist)</td>\n",
       "      <td>female</td>\n",
       "      <td>22.0</td>\n",
       "      <td>1</td>\n",
       "      <td>1</td>\n",
       "      <td>3101298</td>\n",
       "      <td>12.2875</td>\n",
       "      <td>NaN</td>\n",
       "      <td>S</td>\n",
       "      <td>2</td>\n",
       "      <td>2</td>\n",
       "      <td>Hirvonen</td>\n",
       "      <td>Mrs</td>\n",
       "      <td>35.00000</td>\n",
       "      <td>midle_age</td>\n",
       "    </tr>\n",
       "    <tr>\n",
       "      <td>5</td>\n",
       "      <td>897</td>\n",
       "      <td>3</td>\n",
       "      <td>Svensson, Mr. Johan Cervin</td>\n",
       "      <td>male</td>\n",
       "      <td>14.0</td>\n",
       "      <td>0</td>\n",
       "      <td>0</td>\n",
       "      <td>7538</td>\n",
       "      <td>9.2250</td>\n",
       "      <td>NaN</td>\n",
       "      <td>S</td>\n",
       "      <td>0</td>\n",
       "      <td>0</td>\n",
       "      <td>Svensson</td>\n",
       "      <td>Mr</td>\n",
       "      <td>32.36809</td>\n",
       "      <td>midle_age</td>\n",
       "    </tr>\n",
       "  </tbody>\n",
       "</table>\n",
       "</div>"
      ],
      "text/plain": [
       "   PassengerId  Pclass                                          Name     Sex  \\\n",
       "0          892       3                              Kelly, Mr. James    male   \n",
       "1          893       3              Wilkes, Mrs. James (Ellen Needs)  female   \n",
       "2          894       2                     Myles, Mr. Thomas Francis    male   \n",
       "3          895       3                              Wirz, Mr. Albert    male   \n",
       "4          896       3  Hirvonen, Mrs. Alexander (Helga E Lindqvist)  female   \n",
       "5          897       3                    Svensson, Mr. Johan Cervin    male   \n",
       "\n",
       "    Age  SibSp  Parch   Ticket     Fare Cabin Embarked  Relatives  \\\n",
       "0  34.5      0      0   330911   7.8292   NaN        Q          0   \n",
       "1  47.0      1      0   363272   7.0000   NaN        S          1   \n",
       "2  62.0      0      0   240276   9.6875   NaN        Q          0   \n",
       "3  27.0      0      0   315154   8.6625   NaN        S          0   \n",
       "4  22.0      1      1  3101298  12.2875   NaN        S          2   \n",
       "5  14.0      0      0     7538   9.2250   NaN        S          0   \n",
       "\n",
       "   Relatives_ed SecondName Status  Age_fill    Age_bin  \n",
       "0             0      Kelly     Mr  22.00000  midle_age  \n",
       "1             1     Wilkes    Mrs  38.00000  midle_age  \n",
       "2             0      Myles     Mr  26.00000  midle_age  \n",
       "3             0       Wirz     Mr  35.00000  midle_age  \n",
       "4             2   Hirvonen    Mrs  35.00000  midle_age  \n",
       "5             0   Svensson     Mr  32.36809  midle_age  "
      ]
     },
     "execution_count": 19,
     "metadata": {},
     "output_type": "execute_result"
    }
   ],
   "source": [
    "data['Age_fill']=data.groupby(['Sex','Status'])['Age'].apply(lambda x: x.fillna(mean(x)))\n",
    "data['Age_bin']=pd.cut(data.Age_fill,[0.1,5,10,15,20,40,50,60,110],labels=['yung_1','yung_2','yung_3','yung_4','midle_age','old_3','old_2','very_old'])\n",
    "test['Age_fill']=data.groupby(['Sex','Status'])['Age'].apply(lambda x: x.fillna(mean(x)))\n",
    "test['Age_bin']=pd.cut(test.Age_fill,[0.1,5,10,15,20,40,50,60,110],\n",
    "                      labels=['yung_1','yung_2','yung_3','yung_4','midle_age','old_3','old_2','very_old'])\n",
    "test.head(6)"
   ]
  },
  {
   "cell_type": "code",
   "execution_count": 20,
   "metadata": {
    "_cell_guid": "46893c77-edf1-4ba0-afb9-5eb91916de24",
    "_uuid": "f93ba6127276f65e2725a4a88ad244bf6b6ed7a2"
   },
   "outputs": [
    {
     "data": {
      "text/plain": [
       "<matplotlib.axes._subplots.AxesSubplot at 0x7f9134848320>"
      ]
     },
     "execution_count": 20,
     "metadata": {},
     "output_type": "execute_result"
    },
    {
     "data": {
      "image/png": "[encoded data removed]",
      "text/plain": [
       "<Figure size 432x288 with 1 Axes>"
      ]
     },
     "metadata": {
      "needs_background": "light"
     },
     "output_type": "display_data"
    },
    {
     "data": {
      "image/png": "[encoded data removed]",
      "text/plain": [
       "<Figure size 432x288 with 1 Axes>"
      ]
     },
     "metadata": {
      "needs_background": "light"
     },
     "output_type": "display_data"
    },
    {
     "data": {
      "image/png": "[encoded data removed]",
      "text/plain": [
       "<Figure size 432x288 with 1 Axes>"
      ]
     },
     "metadata": {
      "needs_background": "light"
     },
     "output_type": "display_data"
    },
    {
     "data": {
      "image/png": "[encoded data removed]",
      "text/plain": [
       "<Figure size 432x288 with 1 Axes>"
      ]
     },
     "metadata": {
      "needs_background": "light"
     },
     "output_type": "display_data"
    },
    {
     "data": {
      "image/png": "[encoded data removed]",
      "text/plain": [
       "<Figure size 432x288 with 1 Axes>"
      ]
     },
     "metadata": {
      "needs_background": "light"
     },
     "output_type": "display_data"
    },
    {
     "data": {
      "image/png": "[encoded data removed]",
      "text/plain": [
       "<Figure size 432x288 with 1 Axes>"
      ]
     },
     "metadata": {
      "needs_background": "light"
     },
     "output_type": "display_data"
    },
    {
     "data": {
      "image/png": "[encoded data removed]",
      "text/plain": [
       "<Figure size 432x288 with 1 Axes>"
      ]
     },
     "metadata": {
      "needs_background": "light"
     },
     "output_type": "display_data"
    },
    {
     "data": {
      "image/png": "[encoded data removed]",
      "text/plain": [
       "<Figure size 432x288 with 1 Axes>"
      ]
     },
     "metadata": {
      "needs_background": "light"
     },
     "output_type": "display_data"
    }
   ],
   "source": [
    "data_pivot_pclass=data.pivot_table('PassengerId','Pclass','Survived',aggfunc='count')\n",
    "data_pivot_pclass.plot(kind='bar',stacked=True)\n",
    "data_pivot_Sex=data.pivot_table('PassengerId','Sex','Survived',aggfunc='count')\n",
    "data_pivot_Sex.plot(kind='bar',stacked=True)\n",
    "data_pivot_SibSp=data.pivot_table('PassengerId','SibSp','Survived',aggfunc='count')\n",
    "data_pivot_SibSp.plot(kind='bar',stacked=True)\n",
    "data_pivot_Parch=data.pivot_table('PassengerId','Parch','Survived',aggfunc='count')\n",
    "data_pivot_Parch.plot(kind='bar',stacked=True)\n",
    "data_pivot_Relatives=data.pivot_table('PassengerId','Relatives','Survived',aggfunc='count')\n",
    "data_pivot_Relatives.plot(kind='bar',stacked=True)\n",
    "data_pivot_Relatives_ed=data.pivot_table('PassengerId','Relatives_ed','Survived',aggfunc='count')\n",
    "data_pivot_Relatives_ed.plot(kind='bar',stacked=True)\n",
    "data_pivot_age_bins=data.pivot_table('PassengerId','Age_bin','Survived',aggfunc='count')\n",
    "data_pivot_age_bins.plot(kind='bar',stacked=True)\n",
    "data_pivot_status=data.pivot_table('PassengerId','Status','Survived',aggfunc='count')\n",
    "data_pivot_status.plot(kind='bar',stacked=True)"
   ]
  },
  {
   "cell_type": "code",
   "execution_count": 22,
   "metadata": {
    "_cell_guid": "98e76f14-6a8c-4085-a471-7fcae1c36bee",
    "_uuid": "6b64956470c42834ea0e4ea033c5c56c71b693e5"
   },
   "outputs": [],
   "source": [
    "# data[['Age_fill']].plot(kind='hist',)\n",
    "# test.Age_fill.plot(kind='hist')"
   ]
  },
  {
   "cell_type": "code",
   "execution_count": 23,
   "metadata": {
    "_cell_guid": "40f776c6-7589-45c0-b7cd-2732c4cbde27",
    "_uuid": "cc7283500e2dc8980bf4e4d2272a5e2f999dcf01"
   },
   "outputs": [
    {
     "data": {
      "text/html": [
       "<div>\n",
       "<style scoped>\n",
       "    .dataframe tbody tr th:only-of-type {\n",
       "        vertical-align: middle;\n",
       "    }\n",
       "\n",
       "    .dataframe tbody tr th {\n",
       "        vertical-align: top;\n",
       "    }\n",
       "\n",
       "    .dataframe thead th {\n",
       "        text-align: right;\n",
       "    }\n",
       "</style>\n",
       "<table border=\"1\" class=\"dataframe\">\n",
       "  <thead>\n",
       "    <tr style=\"text-align: right;\">\n",
       "      <th></th>\n",
       "      <th>PassengerId</th>\n",
       "      <th>Pclass</th>\n",
       "      <th>Name</th>\n",
       "      <th>Sex</th>\n",
       "      <th>Age</th>\n",
       "      <th>SibSp</th>\n",
       "      <th>Parch</th>\n",
       "      <th>Ticket</th>\n",
       "      <th>Fare</th>\n",
       "      <th>Cabin</th>\n",
       "      <th>Embarked</th>\n",
       "      <th>Relatives</th>\n",
       "      <th>Relatives_ed</th>\n",
       "      <th>SecondName</th>\n",
       "      <th>Status</th>\n",
       "      <th>Age_fill</th>\n",
       "      <th>Age_bin</th>\n",
       "      <th>Fare_fill</th>\n",
       "    </tr>\n",
       "  </thead>\n",
       "  <tbody>\n",
       "    <tr>\n",
       "      <td>0</td>\n",
       "      <td>892</td>\n",
       "      <td>3</td>\n",
       "      <td>Kelly, Mr. James</td>\n",
       "      <td>male</td>\n",
       "      <td>34.5</td>\n",
       "      <td>0</td>\n",
       "      <td>0</td>\n",
       "      <td>330911</td>\n",
       "      <td>7.8292</td>\n",
       "      <td>NaN</td>\n",
       "      <td>Q</td>\n",
       "      <td>0</td>\n",
       "      <td>0</td>\n",
       "      <td>Kelly</td>\n",
       "      <td>Mr</td>\n",
       "      <td>22.0</td>\n",
       "      <td>midle_age</td>\n",
       "      <td>7.8292</td>\n",
       "    </tr>\n",
       "    <tr>\n",
       "      <td>1</td>\n",
       "      <td>893</td>\n",
       "      <td>3</td>\n",
       "      <td>Wilkes, Mrs. James (Ellen Needs)</td>\n",
       "      <td>female</td>\n",
       "      <td>47.0</td>\n",
       "      <td>1</td>\n",
       "      <td>0</td>\n",
       "      <td>363272</td>\n",
       "      <td>7.0000</td>\n",
       "      <td>NaN</td>\n",
       "      <td>S</td>\n",
       "      <td>1</td>\n",
       "      <td>1</td>\n",
       "      <td>Wilkes</td>\n",
       "      <td>Mrs</td>\n",
       "      <td>38.0</td>\n",
       "      <td>midle_age</td>\n",
       "      <td>7.0000</td>\n",
       "    </tr>\n",
       "    <tr>\n",
       "      <td>2</td>\n",
       "      <td>894</td>\n",
       "      <td>2</td>\n",
       "      <td>Myles, Mr. Thomas Francis</td>\n",
       "      <td>male</td>\n",
       "      <td>62.0</td>\n",
       "      <td>0</td>\n",
       "      <td>0</td>\n",
       "      <td>240276</td>\n",
       "      <td>9.6875</td>\n",
       "      <td>NaN</td>\n",
       "      <td>Q</td>\n",
       "      <td>0</td>\n",
       "      <td>0</td>\n",
       "      <td>Myles</td>\n",
       "      <td>Mr</td>\n",
       "      <td>26.0</td>\n",
       "      <td>midle_age</td>\n",
       "      <td>9.6875</td>\n",
       "    </tr>\n",
       "    <tr>\n",
       "      <td>3</td>\n",
       "      <td>895</td>\n",
       "      <td>3</td>\n",
       "      <td>Wirz, Mr. Albert</td>\n",
       "      <td>male</td>\n",
       "      <td>27.0</td>\n",
       "      <td>0</td>\n",
       "      <td>0</td>\n",
       "      <td>315154</td>\n",
       "      <td>8.6625</td>\n",
       "      <td>NaN</td>\n",
       "      <td>S</td>\n",
       "      <td>0</td>\n",
       "      <td>0</td>\n",
       "      <td>Wirz</td>\n",
       "      <td>Mr</td>\n",
       "      <td>35.0</td>\n",
       "      <td>midle_age</td>\n",
       "      <td>8.6625</td>\n",
       "    </tr>\n",
       "    <tr>\n",
       "      <td>4</td>\n",
       "      <td>896</td>\n",
       "      <td>3</td>\n",
       "      <td>Hirvonen, Mrs. Alexander (Helga E Lindqvist)</td>\n",
       "      <td>female</td>\n",
       "      <td>22.0</td>\n",
       "      <td>1</td>\n",
       "      <td>1</td>\n",
       "      <td>3101298</td>\n",
       "      <td>12.2875</td>\n",
       "      <td>NaN</td>\n",
       "      <td>S</td>\n",
       "      <td>2</td>\n",
       "      <td>2</td>\n",
       "      <td>Hirvonen</td>\n",
       "      <td>Mrs</td>\n",
       "      <td>35.0</td>\n",
       "      <td>midle_age</td>\n",
       "      <td>12.2875</td>\n",
       "    </tr>\n",
       "  </tbody>\n",
       "</table>\n",
       "</div>"
      ],
      "text/plain": [
       "   PassengerId  Pclass                                          Name     Sex  \\\n",
       "0          892       3                              Kelly, Mr. James    male   \n",
       "1          893       3              Wilkes, Mrs. James (Ellen Needs)  female   \n",
       "2          894       2                     Myles, Mr. Thomas Francis    male   \n",
       "3          895       3                              Wirz, Mr. Albert    male   \n",
       "4          896       3  Hirvonen, Mrs. Alexander (Helga E Lindqvist)  female   \n",
       "\n",
       "    Age  SibSp  Parch   Ticket     Fare Cabin Embarked  Relatives  \\\n",
       "0  34.5      0      0   330911   7.8292   NaN        Q          0   \n",
       "1  47.0      1      0   363272   7.0000   NaN        S          1   \n",
       "2  62.0      0      0   240276   9.6875   NaN        Q          0   \n",
       "3  27.0      0      0   315154   8.6625   NaN        S          0   \n",
       "4  22.0      1      1  3101298  12.2875   NaN        S          2   \n",
       "\n",
       "   Relatives_ed SecondName Status  Age_fill    Age_bin  Fare_fill  \n",
       "0             0      Kelly     Mr      22.0  midle_age     7.8292  \n",
       "1             1     Wilkes    Mrs      38.0  midle_age     7.0000  \n",
       "2             0      Myles     Mr      26.0  midle_age     9.6875  \n",
       "3             0       Wirz     Mr      35.0  midle_age     8.6625  \n",
       "4             2   Hirvonen    Mrs      35.0  midle_age    12.2875  "
      ]
     },
     "execution_count": 23,
     "metadata": {},
     "output_type": "execute_result"
    },
    {
     "data": {
      "image/png": "[encoded data removed]",
      "text/plain": [
       "<Figure size 432x288 with 1 Axes>"
      ]
     },
     "metadata": {
      "needs_background": "light"
     },
     "output_type": "display_data"
    }
   ],
   "source": [
    "data.Fare.plot(kind='hist',bins=20)\n",
    "data.Fare.describe()\n",
    "test['Fare_fill']=test.groupby(['Pclass'])['Fare'].apply(lambda x: x.fillna(mean(x)))\n",
    "data['Fare_fill']=data.Fare.values\n",
    "test.head()"
   ]
  },
  {
   "cell_type": "code",
   "execution_count": 24,
   "metadata": {
    "_cell_guid": "4f37a3b5-c453-4dc1-916a-96a98e5291b9",
    "_uuid": "444be28b4b9138ee8e5417d64a542b04818ed024"
   },
   "outputs": [
    {
     "data": {
      "text/plain": [
       "<matplotlib.axes._subplots.AxesSubplot at 0x7f91350bbb38>"
      ]
     },
     "execution_count": 24,
     "metadata": {},
     "output_type": "execute_result"
    },
    {
     "data": {
      "image/png": "[encoded data removed]",
      "text/plain": [
       "<Figure size 432x288 with 1 Axes>"
      ]
     },
     "metadata": {
      "needs_background": "light"
     },
     "output_type": "display_data"
    }
   ],
   "source": [
    "data.Cabin=data.Cabin.fillna('Unknow')\n",
    "data['Cabin_cat']=data.Cabin.apply(lambda x: x[0])\n",
    "test.Cabin=test.Cabin.fillna('Unknow')\n",
    "test['Cabin_cat']=test.Cabin.apply(lambda x: x[0])\n",
    "\n",
    "data_pivot_cabin_cat=data.pivot_table('PassengerId','Cabin_cat','Survived',aggfunc='count')\n",
    "data_pivot_cabin_cat.plot(kind='barh',stacked=True)\n",
    "    "
   ]
  },
  {
   "cell_type": "code",
   "execution_count": 25,
   "metadata": {
    "_cell_guid": "81e379a1-8d31-4943-a349-f6538e011a69",
    "_uuid": "68e6cd4336716aedc8a796992d1e8f6a8df88cd7"
   },
   "outputs": [
    {
     "data": {
      "text/plain": [
       "U    688\n",
       "C     59\n",
       "B     47\n",
       "D     33\n",
       "E     32\n",
       "A     15\n",
       "F     13\n",
       "G      4\n",
       "Name: Cabin_cat, dtype: int64"
      ]
     },
     "execution_count": 25,
     "metadata": {},
     "output_type": "execute_result"
    }
   ],
   "source": [
    "data.loc[data.Cabin_cat=='T','Cabin_cat']='U'\n",
    "#print test.Cabin_cat.value_counts()\n",
    "data.Cabin_cat.value_counts()\n"
   ]
  },
  {
   "cell_type": "code",
   "execution_count": 26,
   "metadata": {
    "_cell_guid": "cb035ee3-218d-4de2-be08-50a25010910a",
    "_uuid": "e05c3fd76b96ce8412077fa9eaf5451a9fdd2123"
   },
   "outputs": [
    {
     "data": {
      "text/plain": [
       "<matplotlib.axes._subplots.AxesSubplot at 0x7f91346fc860>"
      ]
     },
     "execution_count": 26,
     "metadata": {},
     "output_type": "execute_result"
    },
    {
     "data": {
      "image/png": "[encoded data removed]",
      "text/plain": [
       "<Figure size 432x288 with 1 Axes>"
      ]
     },
     "metadata": {
      "needs_background": "light"
     },
     "output_type": "display_data"
    }
   ],
   "source": [
    "import seaborn\n",
    "seaborn.countplot(y='Cabin_cat',data=data[data.Cabin_cat!='U'])"
   ]
  },
  {
   "cell_type": "code",
   "execution_count": 27,
   "metadata": {
    "_cell_guid": "b0625833-4c54-4330-b1be-bed44a8eaf46",
    "_uuid": "5bd33e5a69dfaa12f88a162d6afc4d0cd457777e"
   },
   "outputs": [
    {
     "name": "stderr",
     "output_type": "stream",
     "text": [
      "/home/vasylcf/anaconda3/lib/python3.7/site-packages/seaborn/categorical.py:3666: UserWarning: The `factorplot` function has been renamed to `catplot`. The original name will be removed in a future release. Please update your code. Note that the default `kind` in `factorplot` (`'point'`) has changed `'strip'` in `catplot`.\n",
      "  warnings.warn(msg)\n"
     ]
    },
    {
     "data": {
      "text/plain": [
       "<seaborn.axisgrid.FacetGrid at 0x7f9134c85208>"
      ]
     },
     "execution_count": 27,
     "metadata": {},
     "output_type": "execute_result"
    },
    {
     "data": {
      "image/png": "[encoded data removed]",
      "text/plain": [
       "<Figure size 1440x720 with 7 Axes>"
      ]
     },
     "metadata": {
      "needs_background": "light"
     },
     "output_type": "display_data"
    }
   ],
   "source": [
    "#seaborn.factorplot('Survived',col='Cabin_cat',data=data.Cabin_cat[data.Cabin_cat<>'U'],kind='count')\n",
    "seaborn.factorplot('Survived',col='Cabin_cat',data=data[data.Cabin_cat!='U'],kind='count',col_wrap=4)"
   ]
  },
  {
   "cell_type": "code",
   "execution_count": 28,
   "metadata": {
    "_cell_guid": "fac21be3-1e46-4af9-9015-27f380ae8cd5",
    "_uuid": "7e8824c636765d62d4f47ca325129ac205c9ce97"
   },
   "outputs": [
    {
     "name": "stderr",
     "output_type": "stream",
     "text": [
      "/home/vasylcf/anaconda3/lib/python3.7/site-packages/ipykernel_launcher.py:3: FutureWarning: \n",
      "The current behaviour of 'Series.argmax' is deprecated, use 'idxmax'\n",
      "instead.\n",
      "The behavior of 'argmax' will be corrected to return the positional\n",
      "maximum in the future. For now, use 'series.values.argmax' or\n",
      "'np.argmax(np.array(values))' to get the position of the maximum\n",
      "row.\n",
      "  This is separate from the ipykernel package so we can avoid doing imports until\n"
     ]
    },
    {
     "data": {
      "text/plain": [
       "False"
      ]
     },
     "execution_count": 28,
     "metadata": {},
     "output_type": "execute_result"
    }
   ],
   "source": [
    "#emb=data.Embarked.value_counts()\n",
    "#emb.argmax()\n",
    "data.Embarked=data.Embarked.fillna(data.Embarked.value_counts().argmax())\n",
    "data.Embarked.isnull().any()"
   ]
  },
  {
   "cell_type": "code",
   "execution_count": 29,
   "metadata": {
    "_cell_guid": "787ceafa-6cfd-44d6-b505-44447df57de1",
    "_uuid": "fe55bf4b5c34554aa3d251cde9bea28303fc0866"
   },
   "outputs": [],
   "source": [
    "pcls={1:'First',\n",
    "     2:'Second',\n",
    "     3:'Third'}\n",
    "data['Pclass_ed']=data.Pclass.values\n",
    "test['Pclass_ed']=test.Pclass.values\n",
    "for i,j in pcls.items():\n",
    "    data.loc[data.Pclass_ed==i,'Pclass_ed']=j\n",
    "    test.loc[test.Pclass_ed==i,'Pclass_ed']=j"
   ]
  },
  {
   "cell_type": "code",
   "execution_count": 30,
   "metadata": {
    "_cell_guid": "5ac2064c-e9da-49ff-ac8a-b2a429426849",
    "_uuid": "454ac515b5c5560a3ef58dcc2e1c9b424bb6cd0a"
   },
   "outputs": [],
   "source": [
    "relatives_bin={0: 'Single',\n",
    "              1: 'One',\n",
    "              2: 'Two',\n",
    "              3: 'middle',\n",
    "              4: 'middle',\n",
    "              5: 'big'}\n",
    "data['Relatives_bin']=data.Relatives_ed\n",
    "test['Relatives_bin']=test.Relatives_ed\n",
    "for i,j in relatives_bin.items():\n",
    "    data.loc[data['Relatives_bin']==i,'Relatives_bin']=j\n",
    "    test.loc[test['Relatives_bin']==i,'Relatives_bin']=j\n",
    "    "
   ]
  },
  {
   "cell_type": "code",
   "execution_count": 31,
   "metadata": {
    "_cell_guid": "9f5b8162-fd18-4760-90ef-86f5cbdf4e07",
    "_uuid": "792c2355b3ba51bbf6e6c76c750a2704f8a65141"
   },
   "outputs": [],
   "source": [
    "data['SibSp_cat']=data.SibSp.values\n",
    "test['SibSp_cat']=test.SibSp.values\n",
    "data['Parch_cat']=data.Parch.values\n",
    "test['Parch_cat']=test.Parch.values\n",
    "data.loc[data.SibSp>4,'SibSp_cat']=5\n",
    "test.loc[test.SibSp>4,'SibSp_cat']=5\n",
    "data.loc[data.Parch>4,'Parch_cat']=5\n",
    "test.loc[test.Parch>4,'Parch_cat']=5"
   ]
  },
  {
   "cell_type": "code",
   "execution_count": 32,
   "metadata": {
    "_cell_guid": "6550b5b5-e4b5-44c4-9db5-2ea881e08148",
    "_uuid": "a429c95130ddd381fdb3721191bf10fc1d0d728e"
   },
   "outputs": [
    {
     "data": {
      "text/html": [
       "<div>\n",
       "<style scoped>\n",
       "    .dataframe tbody tr th:only-of-type {\n",
       "        vertical-align: middle;\n",
       "    }\n",
       "\n",
       "    .dataframe tbody tr th {\n",
       "        vertical-align: top;\n",
       "    }\n",
       "\n",
       "    .dataframe thead th {\n",
       "        text-align: right;\n",
       "    }\n",
       "</style>\n",
       "<table border=\"1\" class=\"dataframe\">\n",
       "  <thead>\n",
       "    <tr style=\"text-align: right;\">\n",
       "      <th></th>\n",
       "      <th>PassengerId</th>\n",
       "      <th>Survived</th>\n",
       "      <th>Pclass</th>\n",
       "      <th>Name</th>\n",
       "      <th>Sex</th>\n",
       "      <th>Age</th>\n",
       "      <th>SibSp</th>\n",
       "      <th>Parch</th>\n",
       "      <th>Ticket</th>\n",
       "      <th>Fare</th>\n",
       "      <th>...</th>\n",
       "      <th>Age_fill</th>\n",
       "      <th>SeconName</th>\n",
       "      <th>Status</th>\n",
       "      <th>Age_bin</th>\n",
       "      <th>Fare_fill</th>\n",
       "      <th>Cabin_cat</th>\n",
       "      <th>Pclass_ed</th>\n",
       "      <th>Relatives_bin</th>\n",
       "      <th>SibSp_cat</th>\n",
       "      <th>Parch_cat</th>\n",
       "    </tr>\n",
       "  </thead>\n",
       "  <tbody>\n",
       "    <tr>\n",
       "      <td>0</td>\n",
       "      <td>1</td>\n",
       "      <td>0</td>\n",
       "      <td>3</td>\n",
       "      <td>Braund, Mr. Owen Harris</td>\n",
       "      <td>male</td>\n",
       "      <td>22.0</td>\n",
       "      <td>1</td>\n",
       "      <td>0</td>\n",
       "      <td>A/5 21171</td>\n",
       "      <td>7.2500</td>\n",
       "      <td>...</td>\n",
       "      <td>22.000000</td>\n",
       "      <td>Braund</td>\n",
       "      <td>Mr</td>\n",
       "      <td>midle_age</td>\n",
       "      <td>7.2500</td>\n",
       "      <td>U</td>\n",
       "      <td>Third</td>\n",
       "      <td>One</td>\n",
       "      <td>One</td>\n",
       "      <td>Single</td>\n",
       "    </tr>\n",
       "    <tr>\n",
       "      <td>1</td>\n",
       "      <td>2</td>\n",
       "      <td>1</td>\n",
       "      <td>1</td>\n",
       "      <td>Cumings, Mrs. John Bradley (Florence Briggs Th...</td>\n",
       "      <td>female</td>\n",
       "      <td>38.0</td>\n",
       "      <td>1</td>\n",
       "      <td>0</td>\n",
       "      <td>PC 17599</td>\n",
       "      <td>71.2833</td>\n",
       "      <td>...</td>\n",
       "      <td>38.000000</td>\n",
       "      <td>Cumings</td>\n",
       "      <td>Mrs</td>\n",
       "      <td>midle_age</td>\n",
       "      <td>71.2833</td>\n",
       "      <td>C</td>\n",
       "      <td>First</td>\n",
       "      <td>One</td>\n",
       "      <td>One</td>\n",
       "      <td>Single</td>\n",
       "    </tr>\n",
       "    <tr>\n",
       "      <td>2</td>\n",
       "      <td>3</td>\n",
       "      <td>1</td>\n",
       "      <td>3</td>\n",
       "      <td>Heikkinen, Miss. Laina</td>\n",
       "      <td>female</td>\n",
       "      <td>26.0</td>\n",
       "      <td>0</td>\n",
       "      <td>0</td>\n",
       "      <td>STON/O2. 3101282</td>\n",
       "      <td>7.9250</td>\n",
       "      <td>...</td>\n",
       "      <td>26.000000</td>\n",
       "      <td>Heikkinen</td>\n",
       "      <td>Miss</td>\n",
       "      <td>midle_age</td>\n",
       "      <td>7.9250</td>\n",
       "      <td>U</td>\n",
       "      <td>Third</td>\n",
       "      <td>Single</td>\n",
       "      <td>Single</td>\n",
       "      <td>Single</td>\n",
       "    </tr>\n",
       "    <tr>\n",
       "      <td>3</td>\n",
       "      <td>4</td>\n",
       "      <td>1</td>\n",
       "      <td>1</td>\n",
       "      <td>Futrelle, Mrs. Jacques Heath (Lily May Peel)</td>\n",
       "      <td>female</td>\n",
       "      <td>35.0</td>\n",
       "      <td>1</td>\n",
       "      <td>0</td>\n",
       "      <td>113803</td>\n",
       "      <td>53.1000</td>\n",
       "      <td>...</td>\n",
       "      <td>35.000000</td>\n",
       "      <td>Futrelle</td>\n",
       "      <td>Mrs</td>\n",
       "      <td>midle_age</td>\n",
       "      <td>53.1000</td>\n",
       "      <td>C</td>\n",
       "      <td>First</td>\n",
       "      <td>One</td>\n",
       "      <td>One</td>\n",
       "      <td>Single</td>\n",
       "    </tr>\n",
       "    <tr>\n",
       "      <td>4</td>\n",
       "      <td>5</td>\n",
       "      <td>0</td>\n",
       "      <td>3</td>\n",
       "      <td>Allen, Mr. William Henry</td>\n",
       "      <td>male</td>\n",
       "      <td>35.0</td>\n",
       "      <td>0</td>\n",
       "      <td>0</td>\n",
       "      <td>373450</td>\n",
       "      <td>8.0500</td>\n",
       "      <td>...</td>\n",
       "      <td>35.000000</td>\n",
       "      <td>Allen</td>\n",
       "      <td>Mr</td>\n",
       "      <td>midle_age</td>\n",
       "      <td>8.0500</td>\n",
       "      <td>U</td>\n",
       "      <td>Third</td>\n",
       "      <td>Single</td>\n",
       "      <td>Single</td>\n",
       "      <td>Single</td>\n",
       "    </tr>\n",
       "    <tr>\n",
       "      <td>...</td>\n",
       "      <td>...</td>\n",
       "      <td>...</td>\n",
       "      <td>...</td>\n",
       "      <td>...</td>\n",
       "      <td>...</td>\n",
       "      <td>...</td>\n",
       "      <td>...</td>\n",
       "      <td>...</td>\n",
       "      <td>...</td>\n",
       "      <td>...</td>\n",
       "      <td>...</td>\n",
       "      <td>...</td>\n",
       "      <td>...</td>\n",
       "      <td>...</td>\n",
       "      <td>...</td>\n",
       "      <td>...</td>\n",
       "      <td>...</td>\n",
       "      <td>...</td>\n",
       "      <td>...</td>\n",
       "      <td>...</td>\n",
       "      <td>...</td>\n",
       "    </tr>\n",
       "    <tr>\n",
       "      <td>886</td>\n",
       "      <td>887</td>\n",
       "      <td>0</td>\n",
       "      <td>2</td>\n",
       "      <td>Montvila, Rev. Juozas</td>\n",
       "      <td>male</td>\n",
       "      <td>27.0</td>\n",
       "      <td>0</td>\n",
       "      <td>0</td>\n",
       "      <td>211536</td>\n",
       "      <td>13.0000</td>\n",
       "      <td>...</td>\n",
       "      <td>27.000000</td>\n",
       "      <td>Montvila</td>\n",
       "      <td>Rev</td>\n",
       "      <td>midle_age</td>\n",
       "      <td>13.0000</td>\n",
       "      <td>U</td>\n",
       "      <td>Second</td>\n",
       "      <td>Single</td>\n",
       "      <td>Single</td>\n",
       "      <td>Single</td>\n",
       "    </tr>\n",
       "    <tr>\n",
       "      <td>887</td>\n",
       "      <td>888</td>\n",
       "      <td>1</td>\n",
       "      <td>1</td>\n",
       "      <td>Graham, Miss. Margaret Edith</td>\n",
       "      <td>female</td>\n",
       "      <td>19.0</td>\n",
       "      <td>0</td>\n",
       "      <td>0</td>\n",
       "      <td>112053</td>\n",
       "      <td>30.0000</td>\n",
       "      <td>...</td>\n",
       "      <td>19.000000</td>\n",
       "      <td>Graham</td>\n",
       "      <td>Miss</td>\n",
       "      <td>yung_4</td>\n",
       "      <td>30.0000</td>\n",
       "      <td>B</td>\n",
       "      <td>First</td>\n",
       "      <td>Single</td>\n",
       "      <td>Single</td>\n",
       "      <td>Single</td>\n",
       "    </tr>\n",
       "    <tr>\n",
       "      <td>888</td>\n",
       "      <td>889</td>\n",
       "      <td>0</td>\n",
       "      <td>3</td>\n",
       "      <td>Johnston, Miss. Catherine Helen \"Carrie\"</td>\n",
       "      <td>female</td>\n",
       "      <td>NaN</td>\n",
       "      <td>1</td>\n",
       "      <td>2</td>\n",
       "      <td>W./C. 6607</td>\n",
       "      <td>23.4500</td>\n",
       "      <td>...</td>\n",
       "      <td>21.804054</td>\n",
       "      <td>Johnston</td>\n",
       "      <td>Miss</td>\n",
       "      <td>midle_age</td>\n",
       "      <td>23.4500</td>\n",
       "      <td>U</td>\n",
       "      <td>Third</td>\n",
       "      <td>middle</td>\n",
       "      <td>One</td>\n",
       "      <td>Two</td>\n",
       "    </tr>\n",
       "    <tr>\n",
       "      <td>889</td>\n",
       "      <td>890</td>\n",
       "      <td>1</td>\n",
       "      <td>1</td>\n",
       "      <td>Behr, Mr. Karl Howell</td>\n",
       "      <td>male</td>\n",
       "      <td>26.0</td>\n",
       "      <td>0</td>\n",
       "      <td>0</td>\n",
       "      <td>111369</td>\n",
       "      <td>30.0000</td>\n",
       "      <td>...</td>\n",
       "      <td>26.000000</td>\n",
       "      <td>Behr</td>\n",
       "      <td>Mr</td>\n",
       "      <td>midle_age</td>\n",
       "      <td>30.0000</td>\n",
       "      <td>C</td>\n",
       "      <td>First</td>\n",
       "      <td>Single</td>\n",
       "      <td>Single</td>\n",
       "      <td>Single</td>\n",
       "    </tr>\n",
       "    <tr>\n",
       "      <td>890</td>\n",
       "      <td>891</td>\n",
       "      <td>0</td>\n",
       "      <td>3</td>\n",
       "      <td>Dooley, Mr. Patrick</td>\n",
       "      <td>male</td>\n",
       "      <td>32.0</td>\n",
       "      <td>0</td>\n",
       "      <td>0</td>\n",
       "      <td>370376</td>\n",
       "      <td>7.7500</td>\n",
       "      <td>...</td>\n",
       "      <td>32.000000</td>\n",
       "      <td>Dooley</td>\n",
       "      <td>Mr</td>\n",
       "      <td>midle_age</td>\n",
       "      <td>7.7500</td>\n",
       "      <td>U</td>\n",
       "      <td>Third</td>\n",
       "      <td>Single</td>\n",
       "      <td>Single</td>\n",
       "      <td>Single</td>\n",
       "    </tr>\n",
       "  </tbody>\n",
       "</table>\n",
       "<p>891 rows × 24 columns</p>\n",
       "</div>"
      ],
      "text/plain": [
       "     PassengerId  Survived  Pclass  \\\n",
       "0              1         0       3   \n",
       "1              2         1       1   \n",
       "2              3         1       3   \n",
       "3              4         1       1   \n",
       "4              5         0       3   \n",
       "..           ...       ...     ...   \n",
       "886          887         0       2   \n",
       "887          888         1       1   \n",
       "888          889         0       3   \n",
       "889          890         1       1   \n",
       "890          891         0       3   \n",
       "\n",
       "                                                  Name     Sex   Age  SibSp  \\\n",
       "0                              Braund, Mr. Owen Harris    male  22.0      1   \n",
       "1    Cumings, Mrs. John Bradley (Florence Briggs Th...  female  38.0      1   \n",
       "2                               Heikkinen, Miss. Laina  female  26.0      0   \n",
       "3         Futrelle, Mrs. Jacques Heath (Lily May Peel)  female  35.0      1   \n",
       "4                             Allen, Mr. William Henry    male  35.0      0   \n",
       "..                                                 ...     ...   ...    ...   \n",
       "886                              Montvila, Rev. Juozas    male  27.0      0   \n",
       "887                       Graham, Miss. Margaret Edith  female  19.0      0   \n",
       "888           Johnston, Miss. Catherine Helen \"Carrie\"  female   NaN      1   \n",
       "889                              Behr, Mr. Karl Howell    male  26.0      0   \n",
       "890                                Dooley, Mr. Patrick    male  32.0      0   \n",
       "\n",
       "     Parch            Ticket     Fare  ...   Age_fill  SeconName  Status  \\\n",
       "0        0         A/5 21171   7.2500  ...  22.000000     Braund      Mr   \n",
       "1        0          PC 17599  71.2833  ...  38.000000    Cumings     Mrs   \n",
       "2        0  STON/O2. 3101282   7.9250  ...  26.000000  Heikkinen    Miss   \n",
       "3        0            113803  53.1000  ...  35.000000   Futrelle     Mrs   \n",
       "4        0            373450   8.0500  ...  35.000000      Allen      Mr   \n",
       "..     ...               ...      ...  ...        ...        ...     ...   \n",
       "886      0            211536  13.0000  ...  27.000000   Montvila     Rev   \n",
       "887      0            112053  30.0000  ...  19.000000     Graham    Miss   \n",
       "888      2        W./C. 6607  23.4500  ...  21.804054   Johnston    Miss   \n",
       "889      0            111369  30.0000  ...  26.000000       Behr      Mr   \n",
       "890      0            370376   7.7500  ...  32.000000     Dooley      Mr   \n",
       "\n",
       "       Age_bin  Fare_fill Cabin_cat Pclass_ed Relatives_bin  SibSp_cat  \\\n",
       "0    midle_age     7.2500         U     Third           One        One   \n",
       "1    midle_age    71.2833         C     First           One        One   \n",
       "2    midle_age     7.9250         U     Third        Single     Single   \n",
       "3    midle_age    53.1000         C     First           One        One   \n",
       "4    midle_age     8.0500         U     Third        Single     Single   \n",
       "..         ...        ...       ...       ...           ...        ...   \n",
       "886  midle_age    13.0000         U    Second        Single     Single   \n",
       "887     yung_4    30.0000         B     First        Single     Single   \n",
       "888  midle_age    23.4500         U     Third        middle        One   \n",
       "889  midle_age    30.0000         C     First        Single     Single   \n",
       "890  midle_age     7.7500         U     Third        Single     Single   \n",
       "\n",
       "    Parch_cat  \n",
       "0      Single  \n",
       "1      Single  \n",
       "2      Single  \n",
       "3      Single  \n",
       "4      Single  \n",
       "..        ...  \n",
       "886    Single  \n",
       "887    Single  \n",
       "888       Two  \n",
       "889    Single  \n",
       "890    Single  \n",
       "\n",
       "[891 rows x 24 columns]"
      ]
     },
     "execution_count": 32,
     "metadata": {},
     "output_type": "execute_result"
    }
   ],
   "source": [
    "relation_id={0: 'Single',\n",
    "              1: 'One',\n",
    "              2: 'Two',\n",
    "              3: 'three',\n",
    "              4: 'four',\n",
    "              5: 'big',\n",
    "            }\n",
    "for i,j in relation_id.items():\n",
    "    data.loc[data['SibSp']==i,'SibSp_cat']=j\n",
    "    test.loc[test['SibSp']==i,'SibSp_cat']=j\n",
    "    data.loc[data['Parch']==i,'Parch_cat']=j\n",
    "    test.loc[test['Parch']==i,'Parch_cat']=j\n",
    "data"
   ]
  },
  {
   "cell_type": "code",
   "execution_count": 33,
   "metadata": {
    "_cell_guid": "140e28ed-afdf-44c8-89c6-4a6682d19765",
    "_uuid": "e6b9b8801a4c6bca7f46af7c45020c86bd8f9a28"
   },
   "outputs": [
    {
     "data": {
      "text/plain": [
       "Index(['PassengerId', 'Survived', 'Pclass', 'Name', 'Sex', 'Age', 'SibSp',\n",
       "       'Parch', 'Ticket', 'Fare', 'Cabin', 'Embarked', 'Relatives',\n",
       "       'Relatives_ed', 'Age_fill', 'SeconName', 'Status', 'Age_bin',\n",
       "       'Fare_fill', 'Cabin_cat', 'Pclass_ed', 'Relatives_bin', 'SibSp_cat',\n",
       "       'Parch_cat'],\n",
       "      dtype='object')"
      ]
     },
     "execution_count": 33,
     "metadata": {},
     "output_type": "execute_result"
    }
   ],
   "source": [
    "data.columns"
   ]
  },
  {
   "cell_type": "code",
   "execution_count": 34,
   "metadata": {
    "_cell_guid": "3d3ff2c7-7edd-4a32-972d-3091bebeeafa",
    "_uuid": "01370c53ba7bf3af4cb8168dabb969999057ebee"
   },
   "outputs": [
    {
     "data": {
      "text/html": [
       "<div>\n",
       "<style scoped>\n",
       "    .dataframe tbody tr th:only-of-type {\n",
       "        vertical-align: middle;\n",
       "    }\n",
       "\n",
       "    .dataframe tbody tr th {\n",
       "        vertical-align: top;\n",
       "    }\n",
       "\n",
       "    .dataframe thead th {\n",
       "        text-align: right;\n",
       "    }\n",
       "</style>\n",
       "<table border=\"1\" class=\"dataframe\">\n",
       "  <thead>\n",
       "    <tr style=\"text-align: right;\">\n",
       "      <th></th>\n",
       "      <th>Sex_female</th>\n",
       "      <th>Sex_male</th>\n",
       "      <th>Embarked_C</th>\n",
       "      <th>Embarked_Q</th>\n",
       "      <th>Embarked_S</th>\n",
       "      <th>Status_Dr</th>\n",
       "      <th>Status_Master</th>\n",
       "      <th>Status_Miss</th>\n",
       "      <th>Status_Mr</th>\n",
       "      <th>Status_Mrs</th>\n",
       "      <th>...</th>\n",
       "      <th>SibSp_cat_big</th>\n",
       "      <th>SibSp_cat_four</th>\n",
       "      <th>SibSp_cat_three</th>\n",
       "      <th>Parch_cat_5</th>\n",
       "      <th>Parch_cat_One</th>\n",
       "      <th>Parch_cat_Single</th>\n",
       "      <th>Parch_cat_Two</th>\n",
       "      <th>Parch_cat_big</th>\n",
       "      <th>Parch_cat_four</th>\n",
       "      <th>Parch_cat_three</th>\n",
       "    </tr>\n",
       "  </thead>\n",
       "  <tbody>\n",
       "    <tr>\n",
       "      <td>0</td>\n",
       "      <td>0</td>\n",
       "      <td>1</td>\n",
       "      <td>0</td>\n",
       "      <td>1</td>\n",
       "      <td>0</td>\n",
       "      <td>0</td>\n",
       "      <td>0</td>\n",
       "      <td>0</td>\n",
       "      <td>1</td>\n",
       "      <td>0</td>\n",
       "      <td>...</td>\n",
       "      <td>0</td>\n",
       "      <td>0</td>\n",
       "      <td>0</td>\n",
       "      <td>0</td>\n",
       "      <td>0</td>\n",
       "      <td>1</td>\n",
       "      <td>0</td>\n",
       "      <td>0</td>\n",
       "      <td>0</td>\n",
       "      <td>0</td>\n",
       "    </tr>\n",
       "    <tr>\n",
       "      <td>1</td>\n",
       "      <td>1</td>\n",
       "      <td>0</td>\n",
       "      <td>0</td>\n",
       "      <td>0</td>\n",
       "      <td>1</td>\n",
       "      <td>0</td>\n",
       "      <td>0</td>\n",
       "      <td>0</td>\n",
       "      <td>0</td>\n",
       "      <td>1</td>\n",
       "      <td>...</td>\n",
       "      <td>0</td>\n",
       "      <td>0</td>\n",
       "      <td>0</td>\n",
       "      <td>0</td>\n",
       "      <td>0</td>\n",
       "      <td>1</td>\n",
       "      <td>0</td>\n",
       "      <td>0</td>\n",
       "      <td>0</td>\n",
       "      <td>0</td>\n",
       "    </tr>\n",
       "    <tr>\n",
       "      <td>2</td>\n",
       "      <td>0</td>\n",
       "      <td>1</td>\n",
       "      <td>0</td>\n",
       "      <td>1</td>\n",
       "      <td>0</td>\n",
       "      <td>0</td>\n",
       "      <td>0</td>\n",
       "      <td>0</td>\n",
       "      <td>1</td>\n",
       "      <td>0</td>\n",
       "      <td>...</td>\n",
       "      <td>0</td>\n",
       "      <td>0</td>\n",
       "      <td>0</td>\n",
       "      <td>0</td>\n",
       "      <td>0</td>\n",
       "      <td>1</td>\n",
       "      <td>0</td>\n",
       "      <td>0</td>\n",
       "      <td>0</td>\n",
       "      <td>0</td>\n",
       "    </tr>\n",
       "    <tr>\n",
       "      <td>3</td>\n",
       "      <td>0</td>\n",
       "      <td>1</td>\n",
       "      <td>0</td>\n",
       "      <td>0</td>\n",
       "      <td>1</td>\n",
       "      <td>0</td>\n",
       "      <td>0</td>\n",
       "      <td>0</td>\n",
       "      <td>1</td>\n",
       "      <td>0</td>\n",
       "      <td>...</td>\n",
       "      <td>0</td>\n",
       "      <td>0</td>\n",
       "      <td>0</td>\n",
       "      <td>0</td>\n",
       "      <td>0</td>\n",
       "      <td>1</td>\n",
       "      <td>0</td>\n",
       "      <td>0</td>\n",
       "      <td>0</td>\n",
       "      <td>0</td>\n",
       "    </tr>\n",
       "    <tr>\n",
       "      <td>4</td>\n",
       "      <td>1</td>\n",
       "      <td>0</td>\n",
       "      <td>0</td>\n",
       "      <td>0</td>\n",
       "      <td>1</td>\n",
       "      <td>0</td>\n",
       "      <td>0</td>\n",
       "      <td>0</td>\n",
       "      <td>0</td>\n",
       "      <td>1</td>\n",
       "      <td>...</td>\n",
       "      <td>0</td>\n",
       "      <td>0</td>\n",
       "      <td>0</td>\n",
       "      <td>0</td>\n",
       "      <td>1</td>\n",
       "      <td>0</td>\n",
       "      <td>0</td>\n",
       "      <td>0</td>\n",
       "      <td>0</td>\n",
       "      <td>0</td>\n",
       "    </tr>\n",
       "  </tbody>\n",
       "</table>\n",
       "<p>5 rows × 38 columns</p>\n",
       "</div>"
      ],
      "text/plain": [
       "   Sex_female  Sex_male  Embarked_C  Embarked_Q  Embarked_S  Status_Dr  \\\n",
       "0           0         1           0           1           0          0   \n",
       "1           1         0           0           0           1          0   \n",
       "2           0         1           0           1           0          0   \n",
       "3           0         1           0           0           1          0   \n",
       "4           1         0           0           0           1          0   \n",
       "\n",
       "   Status_Master  Status_Miss  Status_Mr  Status_Mrs  ...  SibSp_cat_big  \\\n",
       "0              0            0          1           0  ...              0   \n",
       "1              0            0          0           1  ...              0   \n",
       "2              0            0          1           0  ...              0   \n",
       "3              0            0          1           0  ...              0   \n",
       "4              0            0          0           1  ...              0   \n",
       "\n",
       "   SibSp_cat_four  SibSp_cat_three  Parch_cat_5  Parch_cat_One  \\\n",
       "0               0                0            0              0   \n",
       "1               0                0            0              0   \n",
       "2               0                0            0              0   \n",
       "3               0                0            0              0   \n",
       "4               0                0            0              1   \n",
       "\n",
       "   Parch_cat_Single  Parch_cat_Two  Parch_cat_big  Parch_cat_four  \\\n",
       "0                 1              0              0               0   \n",
       "1                 1              0              0               0   \n",
       "2                 1              0              0               0   \n",
       "3                 1              0              0               0   \n",
       "4                 0              0              0               0   \n",
       "\n",
       "   Parch_cat_three  \n",
       "0                0  \n",
       "1                0  \n",
       "2                0  \n",
       "3                0  \n",
       "4                0  \n",
       "\n",
       "[5 rows x 38 columns]"
      ]
     },
     "execution_count": 34,
     "metadata": {},
     "output_type": "execute_result"
    }
   ],
   "source": [
    "# decode categorical features\n",
    "\n",
    "cat_label=['Sex','Embarked','Status','Pclass_ed','Cabin_cat','SibSp_cat','Parch_cat']\n",
    "frame_cat=pd.get_dummies(data[cat_label],drop_first=False)\n",
    "test_cat=pd.get_dummies(test[cat_label],drop_first=False)\n",
    "test_cat.head()\n",
    "    \n",
    "    "
   ]
  },
  {
   "cell_type": "code",
   "execution_count": 35,
   "metadata": {
    "_cell_guid": "1a30bb17-b39f-48be-84fb-4d54e64c0d6d",
    "_uuid": "ccc63d55dedf511938accd242a920e2fc6422626"
   },
   "outputs": [],
   "source": [
    "scale=preprocessing.StandardScaler()\n",
    "scale_fare=preprocessing.StandardScaler()\n",
    "data['Age_scale']=scale.fit_transform(data['Age_fill'].values.reshape(-1,1))\n",
    "data['Fare_fill_scale']=scale_fare.fit_transform(data['Fare_fill'].values.reshape(-1,1))\n",
    "test['Age_scale']=scale.fit_transform(test['Age_fill'].values.reshape(-1,1))\n",
    "test['Fare_fill_scale']=scale_fare.fit_transform(test['Fare_fill'].values.reshape(-1,1))"
   ]
  },
  {
   "cell_type": "code",
   "execution_count": 36,
   "metadata": {
    "_cell_guid": "05460dd6-ec8f-4aec-92db-93216055ee49",
    "_uuid": "8ff0281da61ddae5e68a06f485992a59fbd2d0a8"
   },
   "outputs": [
    {
     "data": {
      "text/html": [
       "<div>\n",
       "<style scoped>\n",
       "    .dataframe tbody tr th:only-of-type {\n",
       "        vertical-align: middle;\n",
       "    }\n",
       "\n",
       "    .dataframe tbody tr th {\n",
       "        vertical-align: top;\n",
       "    }\n",
       "\n",
       "    .dataframe thead th {\n",
       "        text-align: right;\n",
       "    }\n",
       "</style>\n",
       "<table border=\"1\" class=\"dataframe\">\n",
       "  <thead>\n",
       "    <tr style=\"text-align: right;\">\n",
       "      <th></th>\n",
       "      <th>Fare_fill_scale</th>\n",
       "      <th>Age_scale</th>\n",
       "      <th>Sex_female</th>\n",
       "      <th>Sex_male</th>\n",
       "      <th>Embarked_C</th>\n",
       "      <th>Embarked_Q</th>\n",
       "      <th>Embarked_S</th>\n",
       "      <th>Status_Dr</th>\n",
       "      <th>Status_Master</th>\n",
       "      <th>Status_Miss</th>\n",
       "      <th>...</th>\n",
       "      <th>SibSp_cat_big</th>\n",
       "      <th>SibSp_cat_four</th>\n",
       "      <th>SibSp_cat_three</th>\n",
       "      <th>Parch_cat_5</th>\n",
       "      <th>Parch_cat_One</th>\n",
       "      <th>Parch_cat_Single</th>\n",
       "      <th>Parch_cat_Two</th>\n",
       "      <th>Parch_cat_big</th>\n",
       "      <th>Parch_cat_four</th>\n",
       "      <th>Parch_cat_three</th>\n",
       "    </tr>\n",
       "  </thead>\n",
       "  <tbody>\n",
       "    <tr>\n",
       "      <td>0</td>\n",
       "      <td>-0.497311</td>\n",
       "      <td>-0.518099</td>\n",
       "      <td>0</td>\n",
       "      <td>1</td>\n",
       "      <td>0</td>\n",
       "      <td>1</td>\n",
       "      <td>0</td>\n",
       "      <td>0</td>\n",
       "      <td>0</td>\n",
       "      <td>0</td>\n",
       "      <td>...</td>\n",
       "      <td>0</td>\n",
       "      <td>0</td>\n",
       "      <td>0</td>\n",
       "      <td>0</td>\n",
       "      <td>0</td>\n",
       "      <td>1</td>\n",
       "      <td>0</td>\n",
       "      <td>0</td>\n",
       "      <td>0</td>\n",
       "      <td>0</td>\n",
       "    </tr>\n",
       "    <tr>\n",
       "      <td>1</td>\n",
       "      <td>-0.512175</td>\n",
       "      <td>0.710919</td>\n",
       "      <td>1</td>\n",
       "      <td>0</td>\n",
       "      <td>0</td>\n",
       "      <td>0</td>\n",
       "      <td>1</td>\n",
       "      <td>0</td>\n",
       "      <td>0</td>\n",
       "      <td>0</td>\n",
       "      <td>...</td>\n",
       "      <td>0</td>\n",
       "      <td>0</td>\n",
       "      <td>0</td>\n",
       "      <td>0</td>\n",
       "      <td>0</td>\n",
       "      <td>1</td>\n",
       "      <td>0</td>\n",
       "      <td>0</td>\n",
       "      <td>0</td>\n",
       "      <td>0</td>\n",
       "    </tr>\n",
       "    <tr>\n",
       "      <td>2</td>\n",
       "      <td>-0.463999</td>\n",
       "      <td>-0.210844</td>\n",
       "      <td>0</td>\n",
       "      <td>1</td>\n",
       "      <td>0</td>\n",
       "      <td>1</td>\n",
       "      <td>0</td>\n",
       "      <td>0</td>\n",
       "      <td>0</td>\n",
       "      <td>0</td>\n",
       "      <td>...</td>\n",
       "      <td>0</td>\n",
       "      <td>0</td>\n",
       "      <td>0</td>\n",
       "      <td>0</td>\n",
       "      <td>0</td>\n",
       "      <td>1</td>\n",
       "      <td>0</td>\n",
       "      <td>0</td>\n",
       "      <td>0</td>\n",
       "      <td>0</td>\n",
       "    </tr>\n",
       "    <tr>\n",
       "      <td>3</td>\n",
       "      <td>-0.482373</td>\n",
       "      <td>0.480478</td>\n",
       "      <td>0</td>\n",
       "      <td>1</td>\n",
       "      <td>0</td>\n",
       "      <td>0</td>\n",
       "      <td>1</td>\n",
       "      <td>0</td>\n",
       "      <td>0</td>\n",
       "      <td>0</td>\n",
       "      <td>...</td>\n",
       "      <td>0</td>\n",
       "      <td>0</td>\n",
       "      <td>0</td>\n",
       "      <td>0</td>\n",
       "      <td>0</td>\n",
       "      <td>1</td>\n",
       "      <td>0</td>\n",
       "      <td>0</td>\n",
       "      <td>0</td>\n",
       "      <td>0</td>\n",
       "    </tr>\n",
       "    <tr>\n",
       "      <td>4</td>\n",
       "      <td>-0.417392</td>\n",
       "      <td>0.480478</td>\n",
       "      <td>1</td>\n",
       "      <td>0</td>\n",
       "      <td>0</td>\n",
       "      <td>0</td>\n",
       "      <td>1</td>\n",
       "      <td>0</td>\n",
       "      <td>0</td>\n",
       "      <td>0</td>\n",
       "      <td>...</td>\n",
       "      <td>0</td>\n",
       "      <td>0</td>\n",
       "      <td>0</td>\n",
       "      <td>0</td>\n",
       "      <td>1</td>\n",
       "      <td>0</td>\n",
       "      <td>0</td>\n",
       "      <td>0</td>\n",
       "      <td>0</td>\n",
       "      <td>0</td>\n",
       "    </tr>\n",
       "  </tbody>\n",
       "</table>\n",
       "<p>5 rows × 40 columns</p>\n",
       "</div>"
      ],
      "text/plain": [
       "   Fare_fill_scale  Age_scale  Sex_female  Sex_male  Embarked_C  Embarked_Q  \\\n",
       "0        -0.497311  -0.518099           0         1           0           1   \n",
       "1        -0.512175   0.710919           1         0           0           0   \n",
       "2        -0.463999  -0.210844           0         1           0           1   \n",
       "3        -0.482373   0.480478           0         1           0           0   \n",
       "4        -0.417392   0.480478           1         0           0           0   \n",
       "\n",
       "   Embarked_S  Status_Dr  Status_Master  Status_Miss  ...  SibSp_cat_big  \\\n",
       "0           0          0              0            0  ...              0   \n",
       "1           1          0              0            0  ...              0   \n",
       "2           0          0              0            0  ...              0   \n",
       "3           1          0              0            0  ...              0   \n",
       "4           1          0              0            0  ...              0   \n",
       "\n",
       "   SibSp_cat_four  SibSp_cat_three  Parch_cat_5  Parch_cat_One  \\\n",
       "0               0                0            0              0   \n",
       "1               0                0            0              0   \n",
       "2               0                0            0              0   \n",
       "3               0                0            0              0   \n",
       "4               0                0            0              1   \n",
       "\n",
       "   Parch_cat_Single  Parch_cat_Two  Parch_cat_big  Parch_cat_four  \\\n",
       "0                 1              0              0               0   \n",
       "1                 1              0              0               0   \n",
       "2                 1              0              0               0   \n",
       "3                 1              0              0               0   \n",
       "4                 0              0              0               0   \n",
       "\n",
       "   Parch_cat_three  \n",
       "0                0  \n",
       "1                0  \n",
       "2                0  \n",
       "3                0  \n",
       "4                0  \n",
       "\n",
       "[5 rows x 40 columns]"
      ]
     },
     "execution_count": 36,
     "metadata": {},
     "output_type": "execute_result"
    }
   ],
   "source": [
    "#Создание чистой выборки для анализа\n",
    "#'Fare_fill',Age_fill\n",
    "X=pd.concat((data[['Fare_fill_scale','Age_scale']],frame_cat),axis=1)\n",
    "T=pd.concat((test[['Fare_fill_scale','Age_scale']],test_cat),axis=1)\n",
    "T.head()"
   ]
  },
  {
   "cell_type": "code",
   "execution_count": 37,
   "metadata": {
    "_cell_guid": "5d4c4cb4-3fd4-4877-b7b4-cc0c76d5c894",
    "_uuid": "280029bf20c5de87417306398757be98e2d55e41"
   },
   "outputs": [],
   "source": [
    "#Целевая метка\n",
    "y=data.Survived"
   ]
  },
  {
   "cell_type": "code",
   "execution_count": 38,
   "metadata": {
    "_cell_guid": "ebd1fea1-ae5e-4224-a360-7cd62089f87c",
    "_uuid": "ac36a513f042e20e65245d119704abd79bb93608"
   },
   "outputs": [],
   "source": [
    "X_train,X_test,y_train,y_test = model_selection.train_test_split(X,y,test_size=0.28)"
   ]
  },
  {
   "cell_type": "code",
   "execution_count": 39,
   "metadata": {
    "_cell_guid": "f934d6ce-9a78-4a59-bdd3-8d6b0baf0910",
    "_uuid": "c0d2c6f17fd7732fd6d5f31511fcc0574c2beb88"
   },
   "outputs": [
    {
     "data": {
      "text/plain": [
       "0.816"
      ]
     },
     "execution_count": 39,
     "metadata": {},
     "output_type": "execute_result"
    }
   ],
   "source": [
    "clf_xgb=xgb.XGBClassifier()\n",
    "clf_xgb.fit(X_train,y_train)\n",
    "predict=clf_xgb.predict(X_test)\n",
    "metrics.accuracy_score(y_test,predict)\n",
    "#print \"Precision: \",metrics.precision_score(y_test,predict)\n",
    "#print \"Recall: \",metrics.recall_score(y_test,predict)\n",
    "#print \"ROC AUC: \",metrics.roc_auc_score(y_test,predict)\n",
    "#print metrics.classification_report(y_test,predict)\n",
    "#print metrics.confusion_matrix(y_test,predict)"
   ]
  },
  {
   "cell_type": "code",
   "execution_count": 40,
   "metadata": {
    "_cell_guid": "ba8a9a8c-6f35-48ab-8cf0-5512e9c6d7bc",
    "_uuid": "f5d524cd68a549efd5138bb1d8b4db0f5a99d747"
   },
   "outputs": [
    {
     "data": {
      "text/plain": [
       "array([0.86046512, 0.81395349, 0.796875  , 0.828125  , 0.79527559])"
      ]
     },
     "execution_count": 40,
     "metadata": {},
     "output_type": "execute_result"
    }
   ],
   "source": [
    "score=model_selection.cross_val_score(clf_xgb,X_train,y_train,cv=5,scoring='accuracy')\n",
    "score"
   ]
  },
  {
   "cell_type": "code",
   "execution_count": 41,
   "metadata": {
    "_cell_guid": "d3dcecc1-1bec-459b-849f-41acf6cfd1c8",
    "_uuid": "4966e630cd75266895773209fe67d8baac07544b"
   },
   "outputs": [
    {
     "data": {
      "text/plain": [
       "array([0.81481481, 0.81818182, 0.79069767, 0.82222222, 0.74509804])"
      ]
     },
     "execution_count": 41,
     "metadata": {},
     "output_type": "execute_result"
    }
   ],
   "source": [
    "score=model_selection.cross_val_score(clf_xgb,X_train,y_train,cv=5,scoring='precision')\n",
    "score"
   ]
  },
  {
   "cell_type": "code",
   "execution_count": 42,
   "metadata": {
    "_cell_guid": "a73c4674-9a32-418c-b6ce-84fb7e11efb9",
    "_uuid": "4aca2393a7690c045928489fd3d2fcb11d124b66"
   },
   "outputs": [
    {
     "data": {
      "text/plain": [
       "<bound method XGBModel.get_params of XGBClassifier(base_score=0.5, booster='gbtree', colsample_bylevel=1,\n",
       "              colsample_bynode=1, colsample_bytree=1, gamma=0,\n",
       "              learning_rate=0.1, max_delta_step=0, max_depth=3,\n",
       "              min_child_weight=1, missing=None, n_estimators=100, n_jobs=1,\n",
       "              nthread=None, objective='binary:logistic', random_state=0,\n",
       "              reg_alpha=0, reg_lambda=1, scale_pos_weight=1, seed=None,\n",
       "              silent=None, subsample=1, verbosity=1)>"
      ]
     },
     "execution_count": 42,
     "metadata": {},
     "output_type": "execute_result"
    }
   ],
   "source": [
    "clf_xgb.get_params"
   ]
  },
  {
   "cell_type": "code",
   "execution_count": 43,
   "metadata": {
    "_cell_guid": "13172f83-8ed4-43fa-953a-4cbff6620034",
    "_uuid": "d29933c61ab0b77b1528aa553c5bda436d34cf5a"
   },
   "outputs": [],
   "source": [
    "# Сетка параметров\n",
    "clf_xgb.get_params().keys()\n",
    "params={ 'learning_rate':np.linspace(0.01,0.1,10),\n",
    "        'n_estimators':np.linspace(10,100,10,dtype='int')\n",
    "       }\n",
    "grid_clf=grid_search(clf_xgb,params,cv=3,scoring='accuracy')"
   ]
  },
  {
   "cell_type": "code",
   "execution_count": 44,
   "metadata": {
    "_cell_guid": "fb037fb7-31b1-4fa6-863f-3a422afb46af",
    "_uuid": "55ada569e42e34f35354d08b0f2cabce12d67892"
   },
   "outputs": [
    {
     "data": {
      "text/plain": [
       "GridSearchCV(cv=3, error_score='raise-deprecating',\n",
       "             estimator=XGBClassifier(base_score=0.5, booster='gbtree',\n",
       "                                     colsample_bylevel=1, colsample_bynode=1,\n",
       "                                     colsample_bytree=1, gamma=0,\n",
       "                                     learning_rate=0.1, max_delta_step=0,\n",
       "                                     max_depth=3, min_child_weight=1,\n",
       "                                     missing=None, n_estimators=100, n_jobs=1,\n",
       "                                     nthread=None, objective='binary:logistic',\n",
       "                                     random_state=0, reg_alpha=0, reg_lambda=1,\n",
       "                                     scale_pos_weight=1, seed=None, silent=None,\n",
       "                                     subsample=1, verbosity=1),\n",
       "             iid='warn', n_jobs=None,\n",
       "             param_grid={'learning_rate': array([0.01, 0.02, 0.03, 0.04, 0.05, 0.06, 0.07, 0.08, 0.09, 0.1 ]),\n",
       "                         'n_estimators': array([ 10,  20,  30,  40,  50,  60,  70,  80,  90, 100])},\n",
       "             pre_dispatch='2*n_jobs', refit=True, return_train_score=False,\n",
       "             scoring='accuracy', verbose=0)"
      ]
     },
     "execution_count": 44,
     "metadata": {},
     "output_type": "execute_result"
    }
   ],
   "source": [
    "grid_clf.fit(X_train,y_train)"
   ]
  },
  {
   "cell_type": "code",
   "execution_count": 45,
   "metadata": {
    "_cell_guid": "d39a7d4b-272c-41c2-a815-397f16fb9614",
    "_uuid": "2da81fa7c63f53e51366b0656e1f9274e9f9a1bc"
   },
   "outputs": [
    {
     "name": "stdout",
     "output_type": "stream",
     "text": [
      "              precision    recall  f1-score   support\n",
      "\n",
      "           0       0.85      0.88      0.87       165\n",
      "           1       0.76      0.69      0.72        85\n",
      "\n",
      "    accuracy                           0.82       250\n",
      "   macro avg       0.80      0.79      0.80       250\n",
      "weighted avg       0.82      0.82      0.82       250\n",
      "\n"
     ]
    }
   ],
   "source": [
    "grid_clf.best_score_\n",
    "predict2=grid_clf.best_estimator_.predict(X_test)\n",
    "print (metrics.classification_report(y_test,predict2))\n"
   ]
  },
  {
   "cell_type": "code",
   "execution_count": 46,
   "metadata": {
    "_cell_guid": "dbafb362-9155-42db-abf9-4d9f3ebfcfcd",
    "_uuid": "50f43d9b4beda0b2bb0a0e47631a87c7fef33dea"
   },
   "outputs": [
    {
     "name": "stdout",
     "output_type": "stream",
     "text": [
      "0.8268330733229329\n",
      "{'learning_rate': 0.08, 'n_estimators': 100}\n"
     ]
    }
   ],
   "source": [
    "\n",
    "print (grid_clf.best_score_)\n",
    "print (grid_clf.best_params_)"
   ]
  },
  {
   "cell_type": "code",
   "execution_count": null,
   "metadata": {
    "_cell_guid": "7fb25294-9020-412e-87c0-d9a646a562fe",
    "_uuid": "3d1fcbba59eb6a06d2b49bdc931cf73ccb31f534"
   },
   "outputs": [],
   "source": []
  },
  {
   "cell_type": "code",
   "execution_count": 47,
   "metadata": {
    "_cell_guid": "7660e0b9-1c4e-4511-8f1f-12150454188c",
    "_uuid": "3f966ffae778a167df84fd97e17251f5c57ebed7"
   },
   "outputs": [
    {
     "name": "stderr",
     "output_type": "stream",
     "text": [
      "/home/vasylcf/anaconda3/lib/python3.7/site-packages/sklearn/linear_model/logistic.py:432: FutureWarning: Default solver will be changed to 'lbfgs' in 0.22. Specify a solver to silence this warning.\n",
      "  FutureWarning)\n"
     ]
    },
    {
     "data": {
      "text/plain": [
       "LogisticRegression(C=1.0, class_weight=None, dual=False, fit_intercept=True,\n",
       "                   intercept_scaling=1, l1_ratio=None, max_iter=100,\n",
       "                   multi_class='warn', n_jobs=None, penalty='l1',\n",
       "                   random_state=None, solver='warn', tol=0.0001, verbose=0,\n",
       "                   warm_start=False)"
      ]
     },
     "execution_count": 47,
     "metadata": {},
     "output_type": "execute_result"
    }
   ],
   "source": [
    "clf_linear=linear_model.LogisticRegression(penalty='l1')\n",
    "clf_linear.fit(X_train,y_train)"
   ]
  },
  {
   "cell_type": "code",
   "execution_count": 48,
   "metadata": {
    "_cell_guid": "62307a3b-cf02-4d0f-8513-2d47d2f8c42e",
    "_uuid": "b0a434833f0ae7c1f07304b41d22d3140797ffb6"
   },
   "outputs": [
    {
     "name": "stdout",
     "output_type": "stream",
     "text": [
      "0.8267394173838735\n",
      "              precision    recall  f1-score   support\n",
      "\n",
      "           0       0.86      0.87      0.86       165\n",
      "           1       0.74      0.72      0.73        85\n",
      "\n",
      "    accuracy                           0.82       250\n",
      "   macro avg       0.80      0.80      0.80       250\n",
      "weighted avg       0.82      0.82      0.82       250\n",
      "\n"
     ]
    },
    {
     "name": "stderr",
     "output_type": "stream",
     "text": [
      "/home/vasylcf/anaconda3/lib/python3.7/site-packages/sklearn/linear_model/logistic.py:432: FutureWarning: Default solver will be changed to 'lbfgs' in 0.22. Specify a solver to silence this warning.\n",
      "  FutureWarning)\n",
      "/home/vasylcf/anaconda3/lib/python3.7/site-packages/sklearn/linear_model/logistic.py:432: FutureWarning: Default solver will be changed to 'lbfgs' in 0.22. Specify a solver to silence this warning.\n",
      "  FutureWarning)\n",
      "/home/vasylcf/anaconda3/lib/python3.7/site-packages/sklearn/linear_model/logistic.py:432: FutureWarning: Default solver will be changed to 'lbfgs' in 0.22. Specify a solver to silence this warning.\n",
      "  FutureWarning)\n",
      "/home/vasylcf/anaconda3/lib/python3.7/site-packages/sklearn/linear_model/logistic.py:432: FutureWarning: Default solver will be changed to 'lbfgs' in 0.22. Specify a solver to silence this warning.\n",
      "  FutureWarning)\n",
      "/home/vasylcf/anaconda3/lib/python3.7/site-packages/sklearn/linear_model/logistic.py:432: FutureWarning: Default solver will be changed to 'lbfgs' in 0.22. Specify a solver to silence this warning.\n",
      "  FutureWarning)\n"
     ]
    }
   ],
   "source": [
    "score=model_selection.cross_val_score(clf_linear,X_train,y_train,cv=5,scoring='accuracy')\n",
    "print (score.mean())\n",
    "print (metrics.classification_report(y_test,clf_linear.predict(X_test)))"
   ]
  },
  {
   "cell_type": "code",
   "execution_count": 49,
   "metadata": {
    "_cell_guid": "9853519a-47ea-407f-8ba5-b41ad06bef51",
    "_uuid": "1aa6504991925a48a3e152edb13a6870d719ea45"
   },
   "outputs": [
    {
     "name": "stdout",
     "output_type": "stream",
     "text": [
      "[0.82945736 0.81395349 0.796875   0.8125     0.81102362]\n",
      "0.82\n",
      "              precision    recall  f1-score   support\n",
      "\n",
      "           0       0.85      0.88      0.87       165\n",
      "           1       0.75      0.71      0.73        85\n",
      "\n",
      "    accuracy                           0.82       250\n",
      "   macro avg       0.80      0.79      0.80       250\n",
      "weighted avg       0.82      0.82      0.82       250\n",
      "\n"
     ]
    }
   ],
   "source": [
    "clf_ridge=linear_model.RidgeClassifier()\n",
    "clf_ridge.fit(X_train,y_train)\n",
    "score=model_selection.cross_val_score(clf_ridge,X_train,y_train,scoring='accuracy',cv=5)\n",
    "print (score)\n",
    "print (metrics.accuracy_score(y_test,clf_ridge.predict(X_test)))\n",
    "print (metrics.classification_report(y_test,clf_ridge.predict(X_test)))"
   ]
  },
  {
   "cell_type": "code",
   "execution_count": 50,
   "metadata": {
    "_cell_guid": "4803760c-351f-4600-9ad6-9c62b88adf64",
    "_uuid": "40665520579761bfe2341e5699c08802afd7d5a3"
   },
   "outputs": [],
   "source": [
    "pred=pd.DataFrame(grid_clf.best_estimator_.predict(T))\n",
    "id=test['PassengerId']\n",
    "final=pd.concat((id,pred),axis=1,ignore_index=True)\n",
    "matrix=final.values\n",
    "answ2=pd.DataFrame(matrix,columns=['PassengerId','Survived'])\n",
    "answ2.to_csv('answer-grid.csv',sep=',',header=True,index=False)"
   ]
  },
  {
   "cell_type": "code",
   "execution_count": 51,
   "metadata": {},
   "outputs": [],
   "source": [
    "pred=pd.DataFrame(clf_linear.predict(T))\n",
    "id=test['PassengerId']\n",
    "final=pd.concat((id,pred),axis=1,ignore_index=True)\n",
    "matrix=final.values\n",
    "answ2=pd.DataFrame(matrix,columns=['PassengerId','Survived'])\n",
    "answ2.to_csv('answer-log.csv',sep=',',header=True,index=False)"
   ]
  },
  {
   "cell_type": "code",
   "execution_count": 52,
   "metadata": {},
   "outputs": [],
   "source": [
    "#https://www.kaggle.com/c/titanic/submissions"
   ]
  },
  {
   "cell_type": "code",
   "execution_count": null,
   "metadata": {},
   "outputs": [],
   "source": []
  }
 ],
 "metadata": {
  "kernelspec": {
   "display_name": "Python 3",
   "language": "python",
   "name": "python3"
  },
  "language_info": {
   "codemirror_mode": {
    "name": "ipython",
    "version": 3
   },
   "file_extension": ".py",
   "mimetype": "text/x-python",
   "name": "python",
   "nbconvert_exporter": "python",
   "pygments_lexer": "ipython3",
   "version": "3.7.3"
  }
 },
 "nbformat": 4,
 "nbformat_minor": 1
}
